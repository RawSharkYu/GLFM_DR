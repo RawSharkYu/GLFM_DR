{
 "cells": [
  {
   "cell_type": "code",
   "execution_count": 34,
   "metadata": {},
   "outputs": [],
   "source": [
    "from sklearn.datasets import load_iris\n",
    "from sklearn.tree import DecisionTreeClassifier\n",
    "from sklearn.ensemble import RandomForestClassifier\n",
    "from sklearn import tree\n",
    "import sys\n",
    "sys.path.append('../../src/GLFMpython/')\n",
    "import GLFM\n",
    "import graphviz\n",
    "import numpy as np\n",
    "import matplotlib.pyplot as plt"
   ]
  },
  {
   "cell_type": "code",
   "execution_count": 2,
   "metadata": {},
   "outputs": [],
   "source": [
    "iris = load_iris()\n",
    "iris_x = iris.data"
   ]
  },
  {
   "cell_type": "code",
   "execution_count": 3,
   "metadata": {},
   "outputs": [
    {
     "data": {
      "text/plain": [
       "(150, 4)"
      ]
     },
     "execution_count": 3,
     "metadata": {},
     "output_type": "execute_result"
    }
   ],
   "source": [
    "iris_x.shape"
   ]
  },
  {
   "cell_type": "code",
   "execution_count": 4,
   "metadata": {},
   "outputs": [],
   "source": [
    "np.random.shuffle(iris_x)"
   ]
  },
  {
   "cell_type": "markdown",
   "metadata": {},
   "source": [
    "Let the 4th features of last 20 entries of iris_train_x be missing data. Then replaced these missing data by other entries' mean value."
   ]
  },
  {
   "cell_type": "code",
   "execution_count": 5,
   "metadata": {},
   "outputs": [],
   "source": [
    "iris_x_mean = iris_x.copy()"
   ]
  },
  {
   "cell_type": "code",
   "execution_count": 6,
   "metadata": {},
   "outputs": [],
   "source": [
    "missing_data = iris_x_mean[130:,3].copy()"
   ]
  },
  {
   "cell_type": "code",
   "execution_count": 7,
   "metadata": {},
   "outputs": [
    {
     "data": {
      "text/plain": [
       "1.1815384615384614"
      ]
     },
     "execution_count": 7,
     "metadata": {},
     "output_type": "execute_result"
    }
   ],
   "source": [
    "iris_x_mean[:130,3].mean()"
   ]
  },
  {
   "cell_type": "code",
   "execution_count": 8,
   "metadata": {},
   "outputs": [],
   "source": [
    "iris_x_mean[130:,3] = 1.1815384615384614"
   ]
  },
  {
   "cell_type": "code",
   "execution_count": 9,
   "metadata": {},
   "outputs": [
    {
     "data": {
      "text/plain": [
       "array([[4.4       , 3.        , 1.3       , 0.2       ],\n",
       "       [6.3       , 2.5       , 4.9       , 1.5       ],\n",
       "       [6.1       , 2.9       , 4.7       , 1.4       ],\n",
       "       [5.7       , 2.6       , 3.5       , 1.        ],\n",
       "       [5.6       , 2.7       , 4.2       , 1.3       ],\n",
       "       [4.9       , 3.1       , 1.5       , 0.1       ],\n",
       "       [5.5       , 2.4       , 3.7       , 1.        ],\n",
       "       [4.8       , 3.1       , 1.6       , 0.2       ],\n",
       "       [6.5       , 3.        , 5.8       , 2.2       ],\n",
       "       [7.7       , 2.6       , 6.9       , 2.3       ],\n",
       "       [5.        , 3.3       , 1.4       , 0.2       ],\n",
       "       [6.4       , 2.8       , 5.6       , 2.1       ],\n",
       "       [6.1       , 3.        , 4.9       , 1.8       ],\n",
       "       [6.8       , 3.        , 5.5       , 2.1       ],\n",
       "       [4.9       , 3.1       , 1.5       , 0.1       ],\n",
       "       [4.8       , 3.        , 1.4       , 0.3       ],\n",
       "       [7.7       , 2.8       , 6.7       , 2.        ],\n",
       "       [6.5       , 3.        , 5.2       , 2.        ],\n",
       "       [5.3       , 3.7       , 1.5       , 0.2       ],\n",
       "       [5.4       , 3.9       , 1.7       , 0.4       ],\n",
       "       [6.4       , 2.9       , 4.3       , 1.3       ],\n",
       "       [6.        , 2.2       , 4.        , 1.        ],\n",
       "       [5.2       , 3.4       , 1.4       , 0.2       ],\n",
       "       [7.9       , 3.8       , 6.4       , 2.        ],\n",
       "       [6.        , 3.4       , 4.5       , 1.6       ],\n",
       "       [5.5       , 2.4       , 3.8       , 1.1       ],\n",
       "       [5.4       , 3.        , 4.5       , 1.5       ],\n",
       "       [6.3       , 2.9       , 5.6       , 1.8       ],\n",
       "       [6.4       , 3.2       , 4.5       , 1.5       ],\n",
       "       [5.        , 3.6       , 1.4       , 0.2       ],\n",
       "       [4.8       , 3.        , 1.4       , 0.1       ],\n",
       "       [5.9       , 3.        , 5.1       , 1.8       ],\n",
       "       [5.        , 3.5       , 1.3       , 0.3       ],\n",
       "       [7.7       , 3.8       , 6.7       , 2.2       ],\n",
       "       [6.1       , 2.8       , 4.7       , 1.2       ],\n",
       "       [6.3       , 2.7       , 4.9       , 1.8       ],\n",
       "       [6.6       , 2.9       , 4.6       , 1.3       ],\n",
       "       [5.7       , 3.        , 4.2       , 1.2       ],\n",
       "       [4.3       , 3.        , 1.1       , 0.1       ],\n",
       "       [6.7       , 3.        , 5.2       , 2.3       ],\n",
       "       [5.7       , 2.8       , 4.1       , 1.3       ],\n",
       "       [5.        , 3.4       , 1.6       , 0.4       ],\n",
       "       [6.1       , 2.8       , 4.        , 1.3       ],\n",
       "       [6.6       , 3.        , 4.4       , 1.4       ],\n",
       "       [4.9       , 2.4       , 3.3       , 1.        ],\n",
       "       [6.1       , 2.6       , 5.6       , 1.4       ],\n",
       "       [6.9       , 3.1       , 5.1       , 2.3       ],\n",
       "       [5.8       , 2.7       , 5.1       , 1.9       ],\n",
       "       [7.6       , 3.        , 6.6       , 2.1       ],\n",
       "       [6.7       , 2.5       , 5.8       , 1.8       ],\n",
       "       [4.5       , 2.3       , 1.3       , 0.3       ],\n",
       "       [5.1       , 3.7       , 1.5       , 0.4       ],\n",
       "       [4.8       , 3.4       , 1.9       , 0.2       ],\n",
       "       [6.3       , 3.3       , 6.        , 2.5       ],\n",
       "       [4.7       , 3.2       , 1.6       , 0.2       ],\n",
       "       [5.6       , 2.5       , 3.9       , 1.1       ],\n",
       "       [5.2       , 3.5       , 1.5       , 0.2       ],\n",
       "       [4.4       , 3.2       , 1.3       , 0.2       ],\n",
       "       [5.6       , 2.9       , 3.6       , 1.3       ],\n",
       "       [6.7       , 3.3       , 5.7       , 2.1       ],\n",
       "       [6.8       , 3.2       , 5.9       , 2.3       ],\n",
       "       [6.7       , 3.1       , 4.4       , 1.4       ],\n",
       "       [6.3       , 3.4       , 5.6       , 2.4       ],\n",
       "       [4.6       , 3.6       , 1.        , 0.2       ],\n",
       "       [5.7       , 3.8       , 1.7       , 0.3       ],\n",
       "       [4.8       , 3.4       , 1.6       , 0.2       ],\n",
       "       [6.4       , 2.8       , 5.6       , 2.2       ],\n",
       "       [6.7       , 3.        , 5.        , 1.7       ],\n",
       "       [4.6       , 3.2       , 1.4       , 0.2       ],\n",
       "       [5.1       , 2.5       , 3.        , 1.1       ],\n",
       "       [5.1       , 3.3       , 1.7       , 0.5       ],\n",
       "       [5.5       , 2.6       , 4.4       , 1.2       ],\n",
       "       [7.3       , 2.9       , 6.3       , 1.8       ],\n",
       "       [5.4       , 3.4       , 1.7       , 0.2       ],\n",
       "       [5.5       , 2.5       , 4.        , 1.3       ],\n",
       "       [5.8       , 2.8       , 5.1       , 2.4       ],\n",
       "       [4.9       , 3.1       , 1.5       , 0.1       ],\n",
       "       [6.5       , 3.        , 5.5       , 1.8       ],\n",
       "       [6.2       , 2.2       , 4.5       , 1.5       ],\n",
       "       [6.2       , 2.9       , 4.3       , 1.3       ],\n",
       "       [5.2       , 2.7       , 3.9       , 1.4       ],\n",
       "       [4.6       , 3.1       , 1.5       , 0.2       ],\n",
       "       [6.1       , 3.        , 4.6       , 1.4       ],\n",
       "       [5.5       , 3.5       , 1.3       , 0.2       ],\n",
       "       [5.        , 3.        , 1.6       , 0.2       ],\n",
       "       [6.3       , 2.5       , 5.        , 1.9       ],\n",
       "       [5.4       , 3.4       , 1.5       , 0.4       ],\n",
       "       [5.7       , 2.8       , 4.5       , 1.3       ],\n",
       "       [5.8       , 2.7       , 4.1       , 1.        ],\n",
       "       [5.1       , 3.8       , 1.9       , 0.4       ],\n",
       "       [5.5       , 2.3       , 4.        , 1.3       ],\n",
       "       [7.        , 3.2       , 4.7       , 1.4       ],\n",
       "       [5.1       , 3.5       , 1.4       , 0.3       ],\n",
       "       [5.        , 3.5       , 1.6       , 0.6       ],\n",
       "       [5.        , 3.4       , 1.5       , 0.2       ],\n",
       "       [6.        , 3.        , 4.8       , 1.8       ],\n",
       "       [5.1       , 3.8       , 1.5       , 0.3       ],\n",
       "       [6.        , 2.7       , 5.1       , 1.6       ],\n",
       "       [5.5       , 4.2       , 1.4       , 0.2       ],\n",
       "       [5.6       , 3.        , 4.5       , 1.5       ],\n",
       "       [7.2       , 3.6       , 6.1       , 2.5       ],\n",
       "       [6.3       , 2.8       , 5.1       , 1.5       ],\n",
       "       [6.3       , 2.3       , 4.4       , 1.3       ],\n",
       "       [7.1       , 3.        , 5.9       , 2.1       ],\n",
       "       [6.7       , 3.3       , 5.7       , 2.5       ],\n",
       "       [6.        , 2.2       , 5.        , 1.5       ],\n",
       "       [6.5       , 2.8       , 4.6       , 1.5       ],\n",
       "       [6.9       , 3.2       , 5.7       , 2.3       ],\n",
       "       [7.4       , 2.8       , 6.1       , 1.9       ],\n",
       "       [5.        , 2.3       , 3.3       , 1.        ],\n",
       "       [5.4       , 3.9       , 1.3       , 0.4       ],\n",
       "       [5.1       , 3.5       , 1.4       , 0.2       ],\n",
       "       [4.7       , 3.2       , 1.3       , 0.2       ],\n",
       "       [5.1       , 3.4       , 1.5       , 0.2       ],\n",
       "       [5.8       , 2.6       , 4.        , 1.2       ],\n",
       "       [5.        , 3.2       , 1.2       , 0.2       ],\n",
       "       [5.8       , 4.        , 1.2       , 0.2       ],\n",
       "       [6.3       , 3.3       , 4.7       , 1.6       ],\n",
       "       [6.8       , 2.8       , 4.8       , 1.4       ],\n",
       "       [5.6       , 3.        , 4.1       , 1.3       ],\n",
       "       [4.9       , 2.5       , 4.5       , 1.7       ],\n",
       "       [5.9       , 3.2       , 4.8       , 1.8       ],\n",
       "       [6.2       , 3.4       , 5.4       , 2.3       ],\n",
       "       [7.7       , 3.        , 6.1       , 2.3       ],\n",
       "       [6.        , 2.9       , 4.5       , 1.5       ],\n",
       "       [5.9       , 3.        , 4.2       , 1.5       ],\n",
       "       [4.9       , 3.        , 1.4       , 0.2       ],\n",
       "       [6.4       , 2.7       , 5.3       , 1.9       ],\n",
       "       [6.9       , 3.1       , 4.9       , 1.5       ],\n",
       "       [5.8       , 2.7       , 5.1       , 1.9       ],\n",
       "       [4.4       , 2.9       , 1.4       , 1.18153846],\n",
       "       [5.4       , 3.7       , 1.5       , 1.18153846],\n",
       "       [6.9       , 3.1       , 5.4       , 1.18153846],\n",
       "       [5.2       , 4.1       , 1.5       , 1.18153846],\n",
       "       [6.4       , 3.1       , 5.5       , 1.18153846],\n",
       "       [5.8       , 2.7       , 3.9       , 1.18153846],\n",
       "       [7.2       , 3.2       , 6.        , 1.18153846],\n",
       "       [6.4       , 3.2       , 5.3       , 1.18153846],\n",
       "       [5.1       , 3.8       , 1.6       , 1.18153846],\n",
       "       [5.7       , 2.5       , 5.        , 1.18153846],\n",
       "       [6.2       , 2.8       , 4.8       , 1.18153846],\n",
       "       [6.5       , 3.2       , 5.1       , 1.18153846],\n",
       "       [4.6       , 3.4       , 1.4       , 1.18153846],\n",
       "       [7.2       , 3.        , 5.8       , 1.18153846],\n",
       "       [5.6       , 2.8       , 4.9       , 1.18153846],\n",
       "       [6.7       , 3.1       , 5.6       , 1.18153846],\n",
       "       [5.        , 2.        , 3.5       , 1.18153846],\n",
       "       [5.7       , 4.4       , 1.5       , 1.18153846],\n",
       "       [5.7       , 2.9       , 4.2       , 1.18153846],\n",
       "       [6.7       , 3.1       , 4.7       , 1.18153846]])"
      ]
     },
     "execution_count": 9,
     "metadata": {},
     "output_type": "execute_result"
    }
   ],
   "source": [
    "iris_x_mean"
   ]
  },
  {
   "cell_type": "markdown",
   "metadata": {},
   "source": [
    "Calculate the mean square error."
   ]
  },
  {
   "cell_type": "code",
   "execution_count": 25,
   "metadata": {},
   "outputs": [
    {
     "name": "stdout",
     "output_type": "stream",
     "text": [
      "Mean Square Error of Missing data recovered by mean\n"
     ]
    },
    {
     "data": {
      "text/plain": [
       "0.6254023668639053"
      ]
     },
     "execution_count": 25,
     "metadata": {},
     "output_type": "execute_result"
    }
   ],
   "source": [
    "print(\"Mean Square Error of Missing data recovered by mean\")\n",
    "np.mean([(missing_data - iris_x_mean[130:,3])**2])"
   ]
  },
  {
   "cell_type": "markdown",
   "metadata": {},
   "source": [
    "Make a copy from this data."
   ]
  },
  {
   "cell_type": "code",
   "execution_count": 13,
   "metadata": {},
   "outputs": [],
   "source": [
    "iris_x_GLFM = iris_x_mean.copy()"
   ]
  },
  {
   "cell_type": "code",
   "execution_count": 15,
   "metadata": {},
   "outputs": [],
   "source": [
    "data = {}\n",
    "data['C'] = 'pppp'\n",
    "data['X'] = iris_x_GLFM"
   ]
  },
  {
   "cell_type": "code",
   "execution_count": 16,
   "metadata": {},
   "outputs": [],
   "source": [
    "hidden = dict()\n",
    "N = len(iris_x_GLFM)\n",
    "hidden['Z'] = np.random.randint(0,2,size=(N,2)).astype('float64')"
   ]
  },
  {
   "cell_type": "code",
   "execution_count": 17,
   "metadata": {},
   "outputs": [],
   "source": [
    "params = dict()\n",
    "params['alpha'] = 2   # concentration parameter for the IBP\n",
    "params['Niter'] = 100 # number of algorithm iterations\n",
    "params['maxK'] = 10\n",
    "params['verbose'] = 0 #do not show messages"
   ]
  },
  {
   "cell_type": "code",
   "execution_count": 18,
   "metadata": {},
   "outputs": [
    {
     "name": "stdout",
     "output_type": "stream",
     "text": [
      "In C++: transforming input data...\n",
      "done\n",
      "\n",
      "\n",
      "Entering C++: Running Inference Routine...\n",
      "\n",
      "\n",
      "Back to Python: OK\n",
      "\n",
      "B_out[D,Kest,maxR] where D=4, Kest=8, maxR=1\n"
     ]
    }
   ],
   "source": [
    "hidden = GLFM.infer(data, hidden,params)"
   ]
  },
  {
   "cell_type": "code",
   "execution_count": 19,
   "metadata": {},
   "outputs": [],
   "source": [
    "X_map = GLFM.computeMAP(data['C'], hidden['Z'], hidden, params)"
   ]
  },
  {
   "cell_type": "code",
   "execution_count": 20,
   "metadata": {},
   "outputs": [
    {
     "data": {
      "text/plain": [
       "(150, 4)"
      ]
     },
     "execution_count": 20,
     "metadata": {},
     "output_type": "execute_result"
    }
   ],
   "source": [
    "X_map.shape"
   ]
  },
  {
   "cell_type": "code",
   "execution_count": 21,
   "metadata": {},
   "outputs": [],
   "source": [
    "iris_x_GLFM[130:,3] = X_map[130:,3]"
   ]
  },
  {
   "cell_type": "markdown",
   "metadata": {},
   "source": [
    "Compute Mean Square Error."
   ]
  },
  {
   "cell_type": "code",
   "execution_count": 24,
   "metadata": {},
   "outputs": [
    {
     "name": "stdout",
     "output_type": "stream",
     "text": [
      "Mean Square Error of GLFM processed data\n"
     ]
    },
    {
     "data": {
      "text/plain": [
       "0.09384247535880211"
      ]
     },
     "execution_count": 24,
     "metadata": {},
     "output_type": "execute_result"
    }
   ],
   "source": [
    "print(\"Mean Square Error of GLFM processed data\")\n",
    "np.mean([(missing_data - iris_x_GLFM[130:,3])**2])"
   ]
  },
  {
   "cell_type": "code",
   "execution_count": 31,
   "metadata": {},
   "outputs": [
    {
     "name": "stdout",
     "output_type": "stream",
     "text": [
      "In C++: transforming input data...\n",
      "done\n",
      "\n",
      "\n",
      "Entering C++: Running Inference Routine...\n",
      "\n",
      "\n",
      "Back to Python: OK\n",
      "\n",
      "B_out[D,Kest,maxR] where D=4, Kest=8, maxR=1\n",
      "In C++: transforming input data...\n",
      "done\n",
      "\n",
      "\n",
      "Entering C++: Running Inference Routine...\n",
      "\n",
      "\n",
      "Back to Python: OK\n",
      "\n",
      "B_out[D,Kest,maxR] where D=4, Kest=8, maxR=1\n",
      "In C++: transforming input data...\n",
      "done\n",
      "\n",
      "\n",
      "Entering C++: Running Inference Routine...\n",
      "\n",
      "\n",
      "Back to Python: OK\n",
      "\n",
      "B_out[D,Kest,maxR] where D=4, Kest=8, maxR=1\n",
      "In C++: transforming input data...\n",
      "done\n",
      "\n",
      "\n",
      "Entering C++: Running Inference Routine...\n",
      "\n",
      "\n",
      "Back to Python: OK\n",
      "\n",
      "B_out[D,Kest,maxR] where D=4, Kest=8, maxR=1\n",
      "In C++: transforming input data...\n",
      "done\n",
      "\n",
      "\n",
      "Entering C++: Running Inference Routine...\n",
      "\n",
      "\n",
      "Back to Python: OK\n",
      "\n",
      "B_out[D,Kest,maxR] where D=4, Kest=8, maxR=1\n",
      "In C++: transforming input data...\n",
      "done\n",
      "\n",
      "\n",
      "Entering C++: Running Inference Routine...\n",
      "\n",
      "\n",
      "Back to Python: OK\n",
      "\n",
      "B_out[D,Kest,maxR] where D=4, Kest=8, maxR=1\n",
      "In C++: transforming input data...\n",
      "done\n",
      "\n",
      "\n",
      "Entering C++: Running Inference Routine...\n",
      "\n",
      "\n",
      "Back to Python: OK\n",
      "\n",
      "B_out[D,Kest,maxR] where D=4, Kest=8, maxR=1\n",
      "In C++: transforming input data...\n",
      "done\n",
      "\n",
      "\n",
      "Entering C++: Running Inference Routine...\n",
      "\n",
      "\n",
      "Back to Python: OK\n",
      "\n",
      "B_out[D,Kest,maxR] where D=4, Kest=8, maxR=1\n",
      "In C++: transforming input data...\n",
      "done\n",
      "\n",
      "\n",
      "Entering C++: Running Inference Routine...\n",
      "\n",
      "\n",
      "Back to Python: OK\n",
      "\n",
      "B_out[D,Kest,maxR] where D=4, Kest=8, maxR=1\n",
      "In C++: transforming input data...\n",
      "done\n",
      "\n",
      "\n",
      "Entering C++: Running Inference Routine...\n",
      "\n",
      "\n",
      "Back to Python: OK\n",
      "\n",
      "B_out[D,Kest,maxR] where D=4, Kest=8, maxR=1\n",
      "In C++: transforming input data...\n",
      "done\n",
      "\n",
      "\n",
      "Entering C++: Running Inference Routine...\n",
      "\n",
      "\n",
      "Back to Python: OK\n",
      "\n",
      "B_out[D,Kest,maxR] where D=4, Kest=8, maxR=1\n",
      "In C++: transforming input data...\n",
      "done\n",
      "\n",
      "\n",
      "Entering C++: Running Inference Routine...\n",
      "\n",
      "\n",
      "Back to Python: OK\n",
      "\n",
      "B_out[D,Kest,maxR] where D=4, Kest=8, maxR=1\n",
      "In C++: transforming input data...\n",
      "done\n",
      "\n",
      "\n",
      "Entering C++: Running Inference Routine...\n",
      "\n",
      "\n",
      "Back to Python: OK\n",
      "\n",
      "B_out[D,Kest,maxR] where D=4, Kest=8, maxR=1\n",
      "In C++: transforming input data...\n",
      "done\n",
      "\n",
      "\n",
      "Entering C++: Running Inference Routine...\n",
      "\n",
      "\n",
      "Back to Python: OK\n",
      "\n",
      "B_out[D,Kest,maxR] where D=4, Kest=8, maxR=1\n",
      "In C++: transforming input data...\n",
      "done\n",
      "\n",
      "\n",
      "Entering C++: Running Inference Routine...\n",
      "\n",
      "\n",
      "Back to Python: OK\n",
      "\n",
      "B_out[D,Kest,maxR] where D=4, Kest=8, maxR=1\n"
     ]
    }
   ],
   "source": [
    "MSE_mean = []\n",
    "MSE_GLFM = []\n",
    "Missing_number = []\n",
    "for l in range(5,80,5):\n",
    "    Missing_number.append(l)\n",
    "    \n",
    "    iris_x_mean = iris_x.copy()\n",
    "    missing_data = iris_x_mean[-l:,3].copy()\n",
    "    iris_x_mean[-l:,3] = iris_x_mean[:-l,3].mean()\n",
    "    MSE_mean.append(np.mean([(missing_data - iris_x_mean[-l:,3])**2]))\n",
    "    \n",
    "    iris_x_GLFM = iris_x_mean.copy()\n",
    "    \n",
    "    data = {}\n",
    "    data['C'] = 'pppp'\n",
    "    data['X'] = iris_x_GLFM\n",
    "    hidden = dict()\n",
    "    N = len(iris_x_GLFM)\n",
    "    hidden['Z'] = np.random.randint(0,2,size=(N,2)).astype('float64')\n",
    "    \n",
    "    params = dict()\n",
    "    params['alpha'] = 2   # concentration parameter for the IBP\n",
    "    params['Niter'] = 100 # number of algorithm iterations\n",
    "    params['maxK'] = 10\n",
    "    params['verbose'] = 0 #do not show messages\n",
    "    \n",
    "    hidden = GLFM.infer(data, hidden,params)\n",
    "    X_map = GLFM.computeMAP(data['C'], hidden['Z'], hidden, params)\n",
    "    iris_x_GLFM[-l:,3] = X_map[-l:,3]\n",
    "    MSE_GLFM.append(np.mean([(missing_data - iris_x_GLFM[-l:,3])**2]))"
   ]
  },
  {
   "cell_type": "code",
   "execution_count": 32,
   "metadata": {},
   "outputs": [
    {
     "data": {
      "text/plain": [
       "[0.44535457788347205,\n",
       " 0.49153316326530616,\n",
       " 0.5518902606310014,\n",
       " 0.6254023668639053,\n",
       " 0.5909030399999998,\n",
       " 0.6198472222222223,\n",
       " 0.5868914933837429,\n",
       " 0.5905165289256199,\n",
       " 0.574292970521542,\n",
       " 0.6265599999999999,\n",
       " 0.6115527574918156,\n",
       " 0.5863012345679012,\n",
       " 0.5657537396859195,\n",
       " 0.5626285714285716,\n",
       " 0.5691626666666666]"
      ]
     },
     "execution_count": 32,
     "metadata": {},
     "output_type": "execute_result"
    }
   ],
   "source": [
    "MSE_mean"
   ]
  },
  {
   "cell_type": "code",
   "execution_count": 33,
   "metadata": {},
   "outputs": [
    {
     "data": {
      "text/plain": [
       "[0.14007458025546826,\n",
       " 0.14710678839220578,\n",
       " 0.2384532791510074,\n",
       " 0.17084290307935418,\n",
       " 0.1956430248427284,\n",
       " 0.37368550490178704,\n",
       " 0.1886952750834008,\n",
       " 0.16672457000078644,\n",
       " 0.1587462157303287,\n",
       " 0.19579750773676424,\n",
       " 0.1906478673532671,\n",
       " 0.5695542849850899,\n",
       " 0.1729862378322892,\n",
       " 0.32299940434225155,\n",
       " 0.21038229495272248]"
      ]
     },
     "execution_count": 33,
     "metadata": {},
     "output_type": "execute_result"
    }
   ],
   "source": [
    "MSE_GLFM"
   ]
  },
  {
   "cell_type": "code",
   "execution_count": 35,
   "metadata": {},
   "outputs": [
    {
     "data": {
      "text/plain": [
       "[5, 10, 15, 20, 25, 30, 35, 40, 45, 50, 55, 60, 65, 70, 75]"
      ]
     },
     "execution_count": 35,
     "metadata": {},
     "output_type": "execute_result"
    }
   ],
   "source": [
    "Missing_number"
   ]
  },
  {
   "cell_type": "code",
   "execution_count": 43,
   "metadata": {},
   "outputs": [
    {
     "data": {
      "text/plain": [
       "[<matplotlib.lines.Line2D at 0x7f7f35cb37d0>]"
      ]
     },
     "execution_count": 43,
     "metadata": {},
     "output_type": "execute_result"
    },
    {
     "data": {
      "image/png": "[encoded data removed]",
      "text/plain": [
       "<Figure size 432x288 with 1 Axes>"
      ]
     },
     "metadata": {},
     "output_type": "display_data"
    }
   ],
   "source": [
    "plt.plot(Missing_number,MSE_mean)\n",
    "plt.plot(Missing_number,MSE_GLFM)"
   ]
  }
 ],
 "metadata": {
  "kernelspec": {
   "display_name": "Python 2",
   "language": "python",
   "name": "python2"
  },
  "language_info": {
   "codemirror_mode": {
    "name": "ipython",
    "version": 2
   },
   "file_extension": ".py",
   "mimetype": "text/x-python",
   "name": "python",
   "nbconvert_exporter": "python",
   "pygments_lexer": "ipython2",
   "version": "2.7.15"
  }
 },
 "nbformat": 4,
 "nbformat_minor": 2
}
