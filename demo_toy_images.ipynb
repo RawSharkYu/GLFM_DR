{
 "cells": [
  {
   "cell_type": "markdown",
   "metadata": {},
   "source": [
    "# DEMO_TOY_IMAGES"
   ]
  },
  {
   "cell_type": "markdown",
   "metadata": {},
   "source": [
    "Simple illustration of GLFM pipeline, replicating the example of the IBP linear-Gaussian model in (Griffiths and Ghahramani, 2011)."
   ]
  },
  {
   "cell_type": "code",
   "execution_count": 1,
   "metadata": {},
   "outputs": [],
   "source": [
    "# ---------------------------------------------\n",
    "# Import necessary libraries\n",
    "# ---------------------------------------------\n",
    "import numpy as np # import numpy matrix for calculus with matrices\n",
    "import matplotlib.pyplot as plt # import plotting library\n",
    "import time        # import time to be able to measure iteration speed\n",
    "import sys\n",
    "sys.path.append('../../src/GLFMpython/')\n",
    "import GLFM\n",
    "\n",
    "import pdb"
   ]
  },
  {
   "cell_type": "code",
   "execution_count": 2,
   "metadata": {},
   "outputs": [
    {
     "name": "stdout",
     "output_type": "stream",
     "text": [
      "\n",
      " 1. GENERATIVE MODEL\n",
      "\n",
      "\tGenerating feature images (components)...\n"
     ]
    }
   ],
   "source": [
    "# ---------------------------------------------\n",
    "# 1. GENERATIVE MODEL\n",
    "# ---------------------------------------------\n",
    "print '\\n 1. GENERATIVE MODEL\\n'\n",
    "\n",
    "print '\\tGenerating feature images (components)...'\n",
    "# Btrue contains the features images or components in order to generate the\n",
    "# whole set of images\n",
    "Btrue = 2*np.array([[0,1.0,0,0,0,0,  1,1,1,0,0,0, 0,1,0,0,0,0,         0,0,0,0,0,0, 0,0,0,0,0,0, 0,0,0,0,0,0],         [0,0.0,0,1,1,1,  0,0,0,1,0,1, 0,0,0,1,1,1,         0,0,0,0,0,0, 0,0,0,0,0,0, 0,0,0,0,0,0],         [0,0,0,0,0,0, 0,0,0,0,0,0, 0,0,0,0,0,0,         1,0,0,0,0,0, 1,1,0,0,0,0, 1,1,1,0,0,0],         [0,0,0,0,0,0, 0,0,0,0,0,0, 0,0,0,0,0,0,         0,0,0,1,1,1, 0,0,0,0,1,0, 0,0,0,0,1,0]])"
   ]
  },
  {
   "cell_type": "code",
   "execution_count": 3,
   "metadata": {},
   "outputs": [
    {
     "data": {
      "text/plain": [
       "array([[0., 2., 0., 0., 0., 0., 2., 2., 2., 0., 0., 0., 0., 2., 0., 0.,\n",
       "        0., 0., 0., 0., 0., 0., 0., 0., 0., 0., 0., 0., 0., 0., 0., 0.,\n",
       "        0., 0., 0., 0.],\n",
       "       [0., 0., 0., 2., 2., 2., 0., 0., 0., 2., 0., 2., 0., 0., 0., 2.,\n",
       "        2., 2., 0., 0., 0., 0., 0., 0., 0., 0., 0., 0., 0., 0., 0., 0.,\n",
       "        0., 0., 0., 0.],\n",
       "       [0., 0., 0., 0., 0., 0., 0., 0., 0., 0., 0., 0., 0., 0., 0., 0.,\n",
       "        0., 0., 2., 0., 0., 0., 0., 0., 2., 2., 0., 0., 0., 0., 2., 2.,\n",
       "        2., 0., 0., 0.],\n",
       "       [0., 0., 0., 0., 0., 0., 0., 0., 0., 0., 0., 0., 0., 0., 0., 0.,\n",
       "        0., 0., 0., 0., 0., 2., 2., 2., 0., 0., 0., 0., 2., 0., 0., 0.,\n",
       "        0., 0., 2., 0.]])"
      ]
     },
     "execution_count": 3,
     "metadata": {},
     "output_type": "execute_result"
    }
   ],
   "source": [
    "Btrue"
   ]
  },
  {
   "cell_type": "code",
   "execution_count": 4,
   "metadata": {},
   "outputs": [],
   "source": [
    "D = Btrue.shape[1] # number of dimensions\n",
    "K = Btrue.shape[0] # number of binary images"
   ]
  },
  {
   "cell_type": "code",
   "execution_count": 5,
   "metadata": {},
   "outputs": [
    {
     "data": {
      "text/plain": [
       "36"
      ]
     },
     "execution_count": 5,
     "metadata": {},
     "output_type": "execute_result"
    }
   ],
   "source": [
    "D"
   ]
  },
  {
   "cell_type": "code",
   "execution_count": 6,
   "metadata": {},
   "outputs": [
    {
     "data": {
      "text/plain": [
       "4"
      ]
     },
     "execution_count": 6,
     "metadata": {},
     "output_type": "execute_result"
    }
   ],
   "source": [
    "K"
   ]
  },
  {
   "cell_type": "code",
   "execution_count": 7,
   "metadata": {},
   "outputs": [
    {
     "name": "stdout",
     "output_type": "stream",
     "text": [
      "\tPlotting feature images (Btrue)...\n"
     ]
    },
    {
     "data": {
      "image/png": "[encoded data removed]",
      "text/plain": [
       "<Figure size 432x288 with 4 Axes>"
      ]
     },
     "metadata": {},
     "output_type": "display_data"
    }
   ],
   "source": [
    "print '\\tPlotting feature images (Btrue)...'\n",
    "f, ((ax1, ax2), (ax3, ax4)) = plt.subplots(2, 2, sharex='col', sharey='row')\n",
    "V = [ax1, ax2, ax3, ax4] # subfigures handlers\n",
    "for i in xrange(len(Btrue)):\n",
    "    pixels = Btrue[i].reshape(int(np.sqrt(Btrue.shape[1])),int(np.sqrt(Btrue.shape[1])))\n",
    "    # Plot each feature component k\n",
    "    V[i].imshow(pixels, cmap='gray',interpolation='nearest')\n",
    "    V[i].set_ylim(0,5) # set Y-axis limits\n",
    "    V[i].set_xlim(0,5) # set X-axis limits\n",
    "    V[i].set_title('Image %d' % (i+1)) # set subplot title\n",
    "#plt.ion()  # turn on interactive mode for plotting (so that the script continues)\n",
    "plt.show() # display images component\n",
    "plt.pause(0.0001)"
   ]
  },
  {
   "cell_type": "code",
   "execution_count": 8,
   "metadata": {},
   "outputs": [
    {
     "name": "stdout",
     "output_type": "stream",
     "text": [
      "\tSetting model parameters (ground truth) and generate database...\n",
      "\tGenerating data with N=1000 and noise variance s2x=0.50\n"
     ]
    }
   ],
   "source": [
    "print '\\tSetting model parameters (ground truth) and generate database...'\n",
    "N = 1000           # number of images to be generated\n",
    "s2x = 0.5          # noise variance for the observations\n",
    "\n",
    "print '\\tGenerating data with N=%d and noise variance s2x=%.2f' % (N,s2x)\n",
    "# generate matrix Z\n",
    "Ztrue = 1.0*(np.random.rand(N,K) < 0.2)#np.random.randint(0,2,size=(N,K)).astype('float64')\n",
    "# Next line generates the toy database\n",
    "X = np.sqrt(s2x) * np.random.randn(N,D) + np.inner(Ztrue, Btrue.transpose())"
   ]
  },
  {
   "cell_type": "code",
   "execution_count": 13,
   "metadata": {},
   "outputs": [
    {
     "data": {
      "text/plain": [
       "1000"
      ]
     },
     "execution_count": 13,
     "metadata": {},
     "output_type": "execute_result"
    }
   ],
   "source": [
    "len(X)"
   ]
  },
  {
   "cell_type": "code",
   "execution_count": 16,
   "metadata": {},
   "outputs": [
    {
     "data": {
      "text/plain": [
       "36"
      ]
     },
     "execution_count": 16,
     "metadata": {},
     "output_type": "execute_result"
    }
   ],
   "source": [
    "len(X[0])"
   ]
  },
  {
   "cell_type": "code",
   "execution_count": 12,
   "metadata": {},
   "outputs": [
    {
     "data": {
      "text/plain": [
       "array([[-1.39731764,  1.17910644, -0.05949088, ..., -1.10278611,\n",
       "        -0.49365456, -0.26169879],\n",
       "       [ 1.63737936, -0.07572667, -0.90937973, ...,  0.82605894,\n",
       "        -0.0079777 , -1.3396284 ],\n",
       "       [ 0.06087039, -0.44988804,  0.08172691, ..., -0.01744608,\n",
       "         0.06008987, -0.17085926],\n",
       "       ...,\n",
       "       [ 0.23302219,  0.45530932,  0.56063922, ...,  0.53920896,\n",
       "        -0.27070135,  0.49954143],\n",
       "       [-0.18106782,  2.33910393, -0.02417985, ..., -0.56887091,\n",
       "        -0.48339604,  0.36144557],\n",
       "       [ 0.07142194,  0.28498311, -0.05956019, ..., -0.61174773,\n",
       "        -0.31660671, -0.5944385 ]])"
      ]
     },
     "execution_count": 12,
     "metadata": {},
     "output_type": "execute_result"
    }
   ],
   "source": [
    "X"
   ]
  },
  {
   "cell_type": "code",
   "execution_count": 19,
   "metadata": {},
   "outputs": [
    {
     "name": "stdout",
     "output_type": "stream",
     "text": [
      "\n",
      " 2. INITIALIZATION\n",
      "\n",
      "\tInitializing Z...\n"
     ]
    }
   ],
   "source": [
    "# ---------------------------------------------\n",
    "# 2. INITIALIZATION FOR GLFM ALGORITHM\n",
    "# ---------------------------------------------\n",
    "\n",
    "print '\\n 2. INITIALIZATION\\n'\n",
    "\n",
    "print '\\tInitializing Z...'\n",
    "hidden = dict()\n",
    "Kinit = 2 # initial number of latent features\n",
    "hidden['Z'] = np.random.randint(0,2,size=(N,Kinit)).astype('float64')"
   ]
  },
  {
   "cell_type": "code",
   "execution_count": 25,
   "metadata": {},
   "outputs": [
    {
     "data": {
      "text/plain": [
       "2"
      ]
     },
     "execution_count": 25,
     "metadata": {},
     "output_type": "execute_result"
    }
   ],
   "source": [
    "len(hidden['Z'][0])"
   ]
  },
  {
   "cell_type": "code",
   "execution_count": 26,
   "metadata": {},
   "outputs": [
    {
     "data": {
      "text/plain": [
       "1000"
      ]
     },
     "execution_count": 26,
     "metadata": {},
     "output_type": "execute_result"
    }
   ],
   "source": [
    "len(hidden['Z'])"
   ]
  },
  {
   "cell_type": "code",
   "execution_count": 20,
   "metadata": {},
   "outputs": [
    {
     "name": "stdout",
     "output_type": "stream",
     "text": [
      "\tInitialization of variables needed for the GLFM model...\n"
     ]
    }
   ],
   "source": [
    "print '\\tInitialization of variables needed for the GLFM model...'\n",
    "data = dict()\n",
    "data['X'] = X\n",
    "data['C'] = np.tile('g',(1,X.shape[1]))[0].tostring() # datatype vector"
   ]
  },
  {
   "cell_type": "code",
   "execution_count": 27,
   "metadata": {},
   "outputs": [
    {
     "data": {
      "text/plain": [
       "'gggggggggggggggggggggggggggggggggggg'"
      ]
     },
     "execution_count": 27,
     "metadata": {},
     "output_type": "execute_result"
    }
   ],
   "source": [
    "data['C']"
   ]
  },
  {
   "cell_type": "markdown",
   "metadata": {},
   "source": [
    "Real-valued (encoded as 'g'): the attribute takes values in the real line."
   ]
  },
  {
   "cell_type": "code",
   "execution_count": 21,
   "metadata": {},
   "outputs": [],
   "source": [
    "# params is optional\n",
    "params = dict()\n",
    "params['alpha'] = 2   # concentration parameter for the IBP\n",
    "params['Niter'] = 100 # number of algorithm iterations\n",
    "params['maxK'] = 10\n",
    "params['verbose'] = 0 #do not show messages"
   ]
  },
  {
   "cell_type": "code",
   "execution_count": 28,
   "metadata": {},
   "outputs": [
    {
     "name": "stdout",
     "output_type": "stream",
     "text": [
      "\tInfering latent features...\n",
      "\n",
      "In C++: transforming input data...\n",
      "done\n",
      "\n",
      "\n",
      "Entering C++: Running Inference Routine...\n",
      "\n",
      "\n",
      "Back to Python: OK\n",
      "\n",
      "B_out[D,Kest,maxR] where D=36, Kest=5, maxR=1\n"
     ]
    }
   ],
   "source": [
    "# ---------------------------------------------\n",
    "# 3. RUN INFERENCE FOR GLFM ALGORITHM\n",
    "# ---------------------------------------------\n",
    "print '\\tInfering latent features...\\n'\n",
    "hidden = GLFM.infer(data, hidden, params)"
   ]
  },
  {
   "cell_type": "code",
   "execution_count": 30,
   "metadata": {},
   "outputs": [],
   "source": [
    "# ---------------------------------------------\n",
    "# 4. PROCESS RESULTS\n",
    "# ---------------------------------------------\n",
    "Kest = hidden['B'].shape[1] # number of inferred latent features\n",
    "D = hidden['B'].shape[0]    # number of dimensions\n"
   ]
  },
  {
   "cell_type": "code",
   "execution_count": 31,
   "metadata": {},
   "outputs": [
    {
     "data": {
      "text/plain": [
       "5"
      ]
     },
     "execution_count": 31,
     "metadata": {},
     "output_type": "execute_result"
    }
   ],
   "source": [
    "Kest"
   ]
  },
  {
   "cell_type": "code",
   "execution_count": 32,
   "metadata": {},
   "outputs": [
    {
     "data": {
      "text/plain": [
       "36"
      ]
     },
     "execution_count": 32,
     "metadata": {},
     "output_type": "execute_result"
    }
   ],
   "source": [
    "D"
   ]
  },
  {
   "cell_type": "code",
   "execution_count": 34,
   "metadata": {},
   "outputs": [
    {
     "name": "stdout",
     "output_type": "stream",
     "text": [
      "\tPrint inferred latent features...\n"
     ]
    },
    {
     "data": {
      "image/png": "[encoded data removed]",
      "text/plain": [
       "<Figure size 432x288 with 9 Axes>"
      ]
     },
     "metadata": {},
     "output_type": "display_data"
    }
   ],
   "source": [
    "print '\\tPrint inferred latent features...'\n",
    "f, ((ax1, ax2, ax3), (ax4, ax5, ax6), (ax7, ax8, ax9)) = plt.subplots(3, 3, sharex='col', sharey='row')\n",
    "V = [ax1, ax2, ax3, ax4, ax5, ax6, ax7, ax8, ax9]\n",
    "\n",
    "for k in xrange(hidden['B'].shape[1]):\n",
    "    if k>len(V):\n",
    "        break;\n",
    "\n",
    "    # visualize each inferred dimension\n",
    "    Zp = np.zeros(Kest)\n",
    "    Zp[k] = 1.0\n",
    "\n",
    "    #hidden['B'][:,k]\n",
    "    #pixels = hidden['B'][:,k].reshape((int(np.sqrt(D)),int(np.sqrt(D))))\n",
    "    Bpred = GLFM.computeMAP(data['C'],Zp, hidden) # MAP prediction for each dim d\n",
    "    pixels = Bpred.reshape((int(np.sqrt(D)),int(np.sqrt(D))))\n",
    "    # Plot\n",
    "    V[k].imshow(pixels, cmap='gray',interpolation='none')\n",
    "    V[k].set_ylim(0,5)\n",
    "    V[k].set_xlim(0,5)\n",
    "    V[k].set_title('Feature %d' % (k+1))\n",
    "#plt.ion()  # interactive mode for plotting (script continues)\n",
    "plt.show() # display figure\n",
    "plt.pause(0.0001)\n"
   ]
  },
  {
   "cell_type": "code",
   "execution_count": 37,
   "metadata": {},
   "outputs": [
    {
     "data": {
      "text/plain": [
       "{'B': array([[[ 3.33238261e-02],\n",
       "         [-3.24515029e-02],\n",
       "         [-1.53966342e-01],\n",
       "         [-1.49837672e-02],\n",
       "         [ 1.62559365e-01]],\n",
       " \n",
       "        [[-4.64073486e-01],\n",
       "         [ 1.93084410e+00],\n",
       "         [ 1.66596242e-01],\n",
       "         [-5.04003043e-02],\n",
       "         [-7.22040375e-02]],\n",
       " \n",
       "        [[ 6.68575291e-02],\n",
       "         [ 3.30180219e-02],\n",
       "         [-3.55490816e-02],\n",
       "         [-1.15900591e-01],\n",
       "         [-2.21396952e-01]],\n",
       " \n",
       "        [[-4.50736152e-01],\n",
       "         [ 8.63077712e-02],\n",
       "         [-3.94817002e-02],\n",
       "         [ 1.35996740e-01],\n",
       "         [ 1.88961964e+00]],\n",
       " \n",
       "        [[-3.26476098e-01],\n",
       "         [ 3.97835446e-02],\n",
       "         [-1.00542552e-01],\n",
       "         [-1.63529360e-01],\n",
       "         [ 1.98135325e+00]],\n",
       " \n",
       "        [[-3.14024310e-01],\n",
       "         [-1.91635154e-02],\n",
       "         [-1.02092838e-02],\n",
       "         [ 1.05251906e-01],\n",
       "         [ 1.89400595e+00]],\n",
       " \n",
       "        [[-4.15702101e-01],\n",
       "         [ 1.95208903e+00],\n",
       "         [ 4.27258365e-02],\n",
       "         [-4.60298939e-02],\n",
       "         [ 7.44950759e-02]],\n",
       " \n",
       "        [[-3.50493882e-01],\n",
       "         [ 1.98976215e+00],\n",
       "         [-2.41172513e-02],\n",
       "         [-5.85900268e-02],\n",
       "         [ 1.93030228e-02]],\n",
       " \n",
       "        [[-3.24606385e-01],\n",
       "         [ 1.79358713e+00],\n",
       "         [-2.57449901e-02],\n",
       "         [-3.64868297e-02],\n",
       "         [ 6.38420741e-02]],\n",
       " \n",
       "        [[-3.37160392e-01],\n",
       "         [-1.30221983e-01],\n",
       "         [-9.02400713e-03],\n",
       "         [ 1.45032884e-01],\n",
       "         [ 1.93021777e+00]],\n",
       " \n",
       "        [[-1.95936434e-02],\n",
       "         [ 5.47406606e-03],\n",
       "         [-6.35569174e-02],\n",
       "         [-1.89118564e-01],\n",
       "         [-1.20119012e-01]],\n",
       " \n",
       "        [[-3.90954430e-01],\n",
       "         [-1.87974590e-02],\n",
       "         [ 2.32860221e-01],\n",
       "         [-1.20543532e-02],\n",
       "         [ 1.83321282e+00]],\n",
       " \n",
       "        [[ 2.26242833e-03],\n",
       "         [ 7.39115696e-02],\n",
       "         [-4.20843183e-02],\n",
       "         [-1.14671358e-02],\n",
       "         [-4.70221054e-02]],\n",
       " \n",
       "        [[-2.84793339e-01],\n",
       "         [ 1.90221705e+00],\n",
       "         [-3.55023625e-02],\n",
       "         [-6.90360944e-02],\n",
       "         [-1.36043162e-01]],\n",
       " \n",
       "        [[ 2.32280133e-02],\n",
       "         [-2.71492412e-02],\n",
       "         [-9.25687944e-02],\n",
       "         [ 3.50551972e-02],\n",
       "         [ 1.17832537e-02]],\n",
       " \n",
       "        [[-3.31931575e-01],\n",
       "         [ 1.10046215e-01],\n",
       "         [-6.48876894e-03],\n",
       "         [-2.04359728e-01],\n",
       "         [ 1.89881821e+00]],\n",
       " \n",
       "        [[-4.07190019e-01],\n",
       "         [-2.08598368e-02],\n",
       "         [ 1.25165064e-01],\n",
       "         [ 9.54697918e-02],\n",
       "         [ 2.16124948e+00]],\n",
       " \n",
       "        [[-4.48406801e-01],\n",
       "         [ 1.40022557e-03],\n",
       "         [ 1.07698912e-01],\n",
       "         [ 1.68938695e-01],\n",
       "         [ 2.05020340e+00]],\n",
       " \n",
       "        [[-3.18256079e-01],\n",
       "         [-3.48325115e-03],\n",
       "         [ 1.89676878e+00],\n",
       "         [-5.65852901e-02],\n",
       "         [-1.88903182e-01]],\n",
       " \n",
       "        [[ 6.06071111e-02],\n",
       "         [-1.24171060e-01],\n",
       "         [-4.81655723e-02],\n",
       "         [ 8.33847046e-02],\n",
       "         [-6.99377015e-02]],\n",
       " \n",
       "        [[ 3.36867617e-05],\n",
       "         [ 7.14288222e-02],\n",
       "         [-1.50030441e-01],\n",
       "         [ 1.34519466e-01],\n",
       "         [ 6.13458795e-02]],\n",
       " \n",
       "        [[-3.47450833e-01],\n",
       "         [-1.71589936e-01],\n",
       "         [ 1.50038660e-01],\n",
       "         [ 1.89887663e+00],\n",
       "         [ 7.59121377e-02]],\n",
       " \n",
       "        [[-2.85507695e-01],\n",
       "         [ 2.82200542e-02],\n",
       "         [ 1.34903575e-01],\n",
       "         [ 1.83083622e+00],\n",
       "         [-1.75972177e-01]],\n",
       " \n",
       "        [[-3.60139217e-01],\n",
       "         [ 1.40247244e-01],\n",
       "         [-9.22450516e-02],\n",
       "         [ 1.98694752e+00],\n",
       "         [-2.59619854e-02]],\n",
       " \n",
       "        [[-3.29009961e-01],\n",
       "         [ 9.29216907e-02],\n",
       "         [ 1.77732951e+00],\n",
       "         [-4.58185939e-02],\n",
       "         [-1.17496788e-01]],\n",
       " \n",
       "        [[-3.21095665e-01],\n",
       "         [-3.23551928e-02],\n",
       "         [ 1.83029749e+00],\n",
       "         [-1.00162825e-02],\n",
       "         [ 6.20667614e-02]],\n",
       " \n",
       "        [[-6.52206278e-02],\n",
       "         [ 1.17670105e-01],\n",
       "         [ 7.66036873e-02],\n",
       "         [-2.54227712e-02],\n",
       "         [-4.21743442e-02]],\n",
       " \n",
       "        [[-5.28603392e-02],\n",
       "         [-1.55325813e-02],\n",
       "         [ 1.54796490e-01],\n",
       "         [ 4.45901202e-02],\n",
       "         [-2.22817515e-02]],\n",
       " \n",
       "        [[-2.94514088e-01],\n",
       "         [ 4.46597587e-02],\n",
       "         [-9.15151920e-02],\n",
       "         [ 1.84789914e+00],\n",
       "         [-6.34884333e-02]],\n",
       " \n",
       "        [[-6.86990402e-02],\n",
       "         [ 1.35755374e-01],\n",
       "         [-1.68692702e-03],\n",
       "         [ 4.38269795e-02],\n",
       "         [-5.07567026e-02]],\n",
       " \n",
       "        [[-4.13364935e-01],\n",
       "         [ 4.68969800e-02],\n",
       "         [ 1.98544042e+00],\n",
       "         [-8.32318169e-02],\n",
       "         [ 1.65188964e-01]],\n",
       " \n",
       "        [[-3.70446856e-01],\n",
       "         [-4.83958622e-02],\n",
       "         [ 1.83877914e+00],\n",
       "         [-8.93941460e-02],\n",
       "         [ 1.02121073e-01]],\n",
       " \n",
       "        [[-4.00419994e-01],\n",
       "         [ 9.31248831e-02],\n",
       "         [ 1.84188013e+00],\n",
       "         [ 8.38445447e-02],\n",
       "         [ 8.58980909e-02]],\n",
       " \n",
       "        [[ 8.37418026e-03],\n",
       "         [ 1.44179994e-02],\n",
       "         [-1.55900369e-01],\n",
       "         [ 4.81270063e-02],\n",
       "         [ 2.72690766e-02]],\n",
       " \n",
       "        [[-3.72497373e-01],\n",
       "         [ 8.72183145e-02],\n",
       "         [ 2.41849666e-01],\n",
       "         [ 1.89704605e+00],\n",
       "         [ 6.89792578e-02]],\n",
       " \n",
       "        [[-5.14958866e-02],\n",
       "         [-4.10951826e-02],\n",
       "         [ 1.97544987e-01],\n",
       "         [ 6.40035736e-02],\n",
       "         [ 6.52631658e-02]]]),\n",
       " 'R': [None,\n",
       "  None,\n",
       "  None,\n",
       "  None,\n",
       "  None,\n",
       "  None,\n",
       "  None,\n",
       "  None,\n",
       "  None,\n",
       "  None,\n",
       "  None,\n",
       "  None,\n",
       "  None,\n",
       "  None,\n",
       "  None,\n",
       "  None,\n",
       "  None,\n",
       "  None,\n",
       "  None,\n",
       "  None,\n",
       "  None,\n",
       "  None,\n",
       "  None,\n",
       "  None,\n",
       "  None,\n",
       "  None,\n",
       "  None,\n",
       "  None,\n",
       "  None,\n",
       "  None,\n",
       "  None,\n",
       "  None,\n",
       "  None,\n",
       "  None,\n",
       "  None,\n",
       "  None],\n",
       " 'Z': array([[1., 0., 0., 0., 0.],\n",
       "        [1., 0., 0., 0., 1.],\n",
       "        [1., 0., 0., 0., 0.],\n",
       "        ...,\n",
       "        [1., 0., 0., 0., 1.],\n",
       "        [1., 1., 0., 0., 0.],\n",
       "        [1., 0., 1., 0., 0.]]),\n",
       " 'mu': array([ 5.11772641e-02,  3.94848747e-01, -3.34538060e-04,  3.45203302e-01,\n",
       "         3.55022192e-01,  3.52014540e-01,  4.22196285e-01,  3.93292396e-01,\n",
       "         3.99400738e-01,  3.47866301e-01, -2.35173637e-02,  3.78890354e-01,\n",
       "        -2.72244372e-02,  4.11014444e-01,  3.73993364e-03,  3.47568430e-01,\n",
       "         3.65043566e-01,  3.39599223e-01,  3.41032947e-01, -1.79083288e-02,\n",
       "        -4.56240580e-02,  3.39549057e-01,  4.31855837e-01,  3.62545141e-01,\n",
       "         3.87820897e-01,  3.72639355e-01,  2.24079993e-02, -2.41933755e-02,\n",
       "         3.56485266e-01,  1.70932166e-02,  3.57573942e-01,  4.02976248e-01,\n",
       "         3.63925567e-01, -9.39734539e-03,  3.69891410e-01, -3.30081717e-02]),\n",
       " 's2Y': array([1.03526119, 0.42366162, 1.03335443, 0.45289814, 0.42785973,\n",
       "        0.42515327, 0.44892651, 0.38942169, 0.37870382, 0.4425763 ,\n",
       "        0.92705999, 0.53011299, 0.9899866 , 0.46651676, 1.00128617,\n",
       "        0.47201836, 0.44556058, 0.42689769, 0.43007707, 0.93857043,\n",
       "        0.97633438, 0.46329946, 0.47671855, 0.46902077, 0.44889654,\n",
       "        0.43245168, 1.00784301, 1.01791909, 0.50730048, 0.98437491,\n",
       "        0.43323712, 0.47353225, 0.41057254, 0.89713727, 0.44940757,\n",
       "        0.96778701]),\n",
       " 'theta': array([[0.],\n",
       "        [0.],\n",
       "        [0.],\n",
       "        [0.],\n",
       "        [0.],\n",
       "        [0.],\n",
       "        [0.],\n",
       "        [0.],\n",
       "        [0.],\n",
       "        [0.],\n",
       "        [0.],\n",
       "        [0.],\n",
       "        [0.],\n",
       "        [0.],\n",
       "        [0.],\n",
       "        [0.],\n",
       "        [0.],\n",
       "        [0.],\n",
       "        [0.],\n",
       "        [0.],\n",
       "        [0.],\n",
       "        [0.],\n",
       "        [0.],\n",
       "        [0.],\n",
       "        [0.],\n",
       "        [0.],\n",
       "        [0.],\n",
       "        [0.],\n",
       "        [0.],\n",
       "        [0.],\n",
       "        [0.],\n",
       "        [0.],\n",
       "        [0.],\n",
       "        [0.],\n",
       "        [0.],\n",
       "        [0.]]),\n",
       " 'time': 27.912174940109253,\n",
       " 'w': array([1.46064958, 0.93977914, 1.39323947, 0.94617075, 0.94208647,\n",
       "        0.96500684, 0.94274068, 0.97722665, 0.94638385, 0.91008917,\n",
       "        1.41973429, 0.9654104 , 1.4111967 , 0.96189729, 1.3785798 ,\n",
       "        0.95872576, 0.94993305, 0.95379402, 0.97637452, 1.38328877,\n",
       "        1.43013189, 0.92450826, 0.95701918, 0.94737626, 0.96689168,\n",
       "        0.98446211, 1.41192059, 1.49224998, 0.96815612, 1.39017655,\n",
       "        0.91114192, 0.92031802, 0.92931607, 1.44175583, 0.94649354,\n",
       "        1.36726768])}"
      ]
     },
     "execution_count": 37,
     "metadata": {},
     "output_type": "execute_result"
    }
   ],
   "source": [
    "hidden"
   ]
  },
  {
   "cell_type": "code",
   "execution_count": 40,
   "metadata": {},
   "outputs": [
    {
     "data": {
      "text/plain": [
       "1000"
      ]
     },
     "execution_count": 40,
     "metadata": {},
     "output_type": "execute_result"
    }
   ],
   "source": [
    "len(hidden['Z'])"
   ]
  },
  {
   "cell_type": "code",
   "execution_count": 41,
   "metadata": {},
   "outputs": [
    {
     "data": {
      "text/plain": [
       "5"
      ]
     },
     "execution_count": 41,
     "metadata": {},
     "output_type": "execute_result"
    }
   ],
   "source": [
    "len(hidden['Z'][0])"
   ]
  },
  {
   "cell_type": "code",
   "execution_count": 43,
   "metadata": {},
   "outputs": [
    {
     "data": {
      "text/plain": [
       "array([[[ 3.33238261e-02],\n",
       "        [-3.24515029e-02],\n",
       "        [-1.53966342e-01],\n",
       "        [-1.49837672e-02],\n",
       "        [ 1.62559365e-01]],\n",
       "\n",
       "       [[-4.64073486e-01],\n",
       "        [ 1.93084410e+00],\n",
       "        [ 1.66596242e-01],\n",
       "        [-5.04003043e-02],\n",
       "        [-7.22040375e-02]],\n",
       "\n",
       "       [[ 6.68575291e-02],\n",
       "        [ 3.30180219e-02],\n",
       "        [-3.55490816e-02],\n",
       "        [-1.15900591e-01],\n",
       "        [-2.21396952e-01]],\n",
       "\n",
       "       [[-4.50736152e-01],\n",
       "        [ 8.63077712e-02],\n",
       "        [-3.94817002e-02],\n",
       "        [ 1.35996740e-01],\n",
       "        [ 1.88961964e+00]],\n",
       "\n",
       "       [[-3.26476098e-01],\n",
       "        [ 3.97835446e-02],\n",
       "        [-1.00542552e-01],\n",
       "        [-1.63529360e-01],\n",
       "        [ 1.98135325e+00]],\n",
       "\n",
       "       [[-3.14024310e-01],\n",
       "        [-1.91635154e-02],\n",
       "        [-1.02092838e-02],\n",
       "        [ 1.05251906e-01],\n",
       "        [ 1.89400595e+00]],\n",
       "\n",
       "       [[-4.15702101e-01],\n",
       "        [ 1.95208903e+00],\n",
       "        [ 4.27258365e-02],\n",
       "        [-4.60298939e-02],\n",
       "        [ 7.44950759e-02]],\n",
       "\n",
       "       [[-3.50493882e-01],\n",
       "        [ 1.98976215e+00],\n",
       "        [-2.41172513e-02],\n",
       "        [-5.85900268e-02],\n",
       "        [ 1.93030228e-02]],\n",
       "\n",
       "       [[-3.24606385e-01],\n",
       "        [ 1.79358713e+00],\n",
       "        [-2.57449901e-02],\n",
       "        [-3.64868297e-02],\n",
       "        [ 6.38420741e-02]],\n",
       "\n",
       "       [[-3.37160392e-01],\n",
       "        [-1.30221983e-01],\n",
       "        [-9.02400713e-03],\n",
       "        [ 1.45032884e-01],\n",
       "        [ 1.93021777e+00]],\n",
       "\n",
       "       [[-1.95936434e-02],\n",
       "        [ 5.47406606e-03],\n",
       "        [-6.35569174e-02],\n",
       "        [-1.89118564e-01],\n",
       "        [-1.20119012e-01]],\n",
       "\n",
       "       [[-3.90954430e-01],\n",
       "        [-1.87974590e-02],\n",
       "        [ 2.32860221e-01],\n",
       "        [-1.20543532e-02],\n",
       "        [ 1.83321282e+00]],\n",
       "\n",
       "       [[ 2.26242833e-03],\n",
       "        [ 7.39115696e-02],\n",
       "        [-4.20843183e-02],\n",
       "        [-1.14671358e-02],\n",
       "        [-4.70221054e-02]],\n",
       "\n",
       "       [[-2.84793339e-01],\n",
       "        [ 1.90221705e+00],\n",
       "        [-3.55023625e-02],\n",
       "        [-6.90360944e-02],\n",
       "        [-1.36043162e-01]],\n",
       "\n",
       "       [[ 2.32280133e-02],\n",
       "        [-2.71492412e-02],\n",
       "        [-9.25687944e-02],\n",
       "        [ 3.50551972e-02],\n",
       "        [ 1.17832537e-02]],\n",
       "\n",
       "       [[-3.31931575e-01],\n",
       "        [ 1.10046215e-01],\n",
       "        [-6.48876894e-03],\n",
       "        [-2.04359728e-01],\n",
       "        [ 1.89881821e+00]],\n",
       "\n",
       "       [[-4.07190019e-01],\n",
       "        [-2.08598368e-02],\n",
       "        [ 1.25165064e-01],\n",
       "        [ 9.54697918e-02],\n",
       "        [ 2.16124948e+00]],\n",
       "\n",
       "       [[-4.48406801e-01],\n",
       "        [ 1.40022557e-03],\n",
       "        [ 1.07698912e-01],\n",
       "        [ 1.68938695e-01],\n",
       "        [ 2.05020340e+00]],\n",
       "\n",
       "       [[-3.18256079e-01],\n",
       "        [-3.48325115e-03],\n",
       "        [ 1.89676878e+00],\n",
       "        [-5.65852901e-02],\n",
       "        [-1.88903182e-01]],\n",
       "\n",
       "       [[ 6.06071111e-02],\n",
       "        [-1.24171060e-01],\n",
       "        [-4.81655723e-02],\n",
       "        [ 8.33847046e-02],\n",
       "        [-6.99377015e-02]],\n",
       "\n",
       "       [[ 3.36867617e-05],\n",
       "        [ 7.14288222e-02],\n",
       "        [-1.50030441e-01],\n",
       "        [ 1.34519466e-01],\n",
       "        [ 6.13458795e-02]],\n",
       "\n",
       "       [[-3.47450833e-01],\n",
       "        [-1.71589936e-01],\n",
       "        [ 1.50038660e-01],\n",
       "        [ 1.89887663e+00],\n",
       "        [ 7.59121377e-02]],\n",
       "\n",
       "       [[-2.85507695e-01],\n",
       "        [ 2.82200542e-02],\n",
       "        [ 1.34903575e-01],\n",
       "        [ 1.83083622e+00],\n",
       "        [-1.75972177e-01]],\n",
       "\n",
       "       [[-3.60139217e-01],\n",
       "        [ 1.40247244e-01],\n",
       "        [-9.22450516e-02],\n",
       "        [ 1.98694752e+00],\n",
       "        [-2.59619854e-02]],\n",
       "\n",
       "       [[-3.29009961e-01],\n",
       "        [ 9.29216907e-02],\n",
       "        [ 1.77732951e+00],\n",
       "        [-4.58185939e-02],\n",
       "        [-1.17496788e-01]],\n",
       "\n",
       "       [[-3.21095665e-01],\n",
       "        [-3.23551928e-02],\n",
       "        [ 1.83029749e+00],\n",
       "        [-1.00162825e-02],\n",
       "        [ 6.20667614e-02]],\n",
       "\n",
       "       [[-6.52206278e-02],\n",
       "        [ 1.17670105e-01],\n",
       "        [ 7.66036873e-02],\n",
       "        [-2.54227712e-02],\n",
       "        [-4.21743442e-02]],\n",
       "\n",
       "       [[-5.28603392e-02],\n",
       "        [-1.55325813e-02],\n",
       "        [ 1.54796490e-01],\n",
       "        [ 4.45901202e-02],\n",
       "        [-2.22817515e-02]],\n",
       "\n",
       "       [[-2.94514088e-01],\n",
       "        [ 4.46597587e-02],\n",
       "        [-9.15151920e-02],\n",
       "        [ 1.84789914e+00],\n",
       "        [-6.34884333e-02]],\n",
       "\n",
       "       [[-6.86990402e-02],\n",
       "        [ 1.35755374e-01],\n",
       "        [-1.68692702e-03],\n",
       "        [ 4.38269795e-02],\n",
       "        [-5.07567026e-02]],\n",
       "\n",
       "       [[-4.13364935e-01],\n",
       "        [ 4.68969800e-02],\n",
       "        [ 1.98544042e+00],\n",
       "        [-8.32318169e-02],\n",
       "        [ 1.65188964e-01]],\n",
       "\n",
       "       [[-3.70446856e-01],\n",
       "        [-4.83958622e-02],\n",
       "        [ 1.83877914e+00],\n",
       "        [-8.93941460e-02],\n",
       "        [ 1.02121073e-01]],\n",
       "\n",
       "       [[-4.00419994e-01],\n",
       "        [ 9.31248831e-02],\n",
       "        [ 1.84188013e+00],\n",
       "        [ 8.38445447e-02],\n",
       "        [ 8.58980909e-02]],\n",
       "\n",
       "       [[ 8.37418026e-03],\n",
       "        [ 1.44179994e-02],\n",
       "        [-1.55900369e-01],\n",
       "        [ 4.81270063e-02],\n",
       "        [ 2.72690766e-02]],\n",
       "\n",
       "       [[-3.72497373e-01],\n",
       "        [ 8.72183145e-02],\n",
       "        [ 2.41849666e-01],\n",
       "        [ 1.89704605e+00],\n",
       "        [ 6.89792578e-02]],\n",
       "\n",
       "       [[-5.14958866e-02],\n",
       "        [-4.10951826e-02],\n",
       "        [ 1.97544987e-01],\n",
       "        [ 6.40035736e-02],\n",
       "        [ 6.52631658e-02]]])"
      ]
     },
     "execution_count": 43,
     "metadata": {},
     "output_type": "execute_result"
    }
   ],
   "source": [
    "hidden['B']"
   ]
  }
 ],
 "metadata": {
  "anaconda-cloud": {},
  "kernelspec": {
   "display_name": "Python 2",
   "language": "python",
   "name": "python2"
  },
  "language_info": {
   "codemirror_mode": {
    "name": "ipython",
    "version": 2
   },
   "file_extension": ".py",
   "mimetype": "text/x-python",
   "name": "python",
   "nbconvert_exporter": "python",
   "pygments_lexer": "ipython2",
   "version": "2.7.15"
  }
 },
 "nbformat": 4,
 "nbformat_minor": 1
}
