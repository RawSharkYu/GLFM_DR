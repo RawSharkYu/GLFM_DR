{
 "cells": [
  {
   "cell_type": "code",
   "execution_count": 1,
   "metadata": {},
   "outputs": [],
   "source": [
    "from sklearn import datasets\n",
    "from sklearn.tree import DecisionTreeClassifier\n",
    "from sklearn.ensemble import RandomForestClassifier\n",
    "from sklearn import tree\n",
    "from sklearn.cluster import KMeans\n",
    "from sklearn.metrics.cluster import homogeneity_score\n",
    "from sklearn.cluster import SpectralClustering"
   ]
  },
  {
   "cell_type": "code",
   "execution_count": 2,
   "metadata": {},
   "outputs": [],
   "source": [
    "from sklearn.metrics import adjusted_rand_score\n",
    "from sklearn.metrics import adjusted_mutual_info_score\n",
    "from sklearn.metrics import fowlkes_mallows_score"
   ]
  },
  {
   "cell_type": "code",
   "execution_count": 3,
   "metadata": {},
   "outputs": [],
   "source": [
    "import sys\n",
    "sys.path.append('../../src/GLFMpython/')\n",
    "import GLFM"
   ]
  },
  {
   "cell_type": "code",
   "execution_count": 4,
   "metadata": {},
   "outputs": [],
   "source": [
    "import matplotlib.pyplot as plt\n",
    "from mpl_toolkits.mplot3d import Axes3D"
   ]
  },
  {
   "cell_type": "code",
   "execution_count": 5,
   "metadata": {},
   "outputs": [],
   "source": [
    "import numpy as np\n",
    "import pandas as pd"
   ]
  },
  {
   "cell_type": "code",
   "execution_count": 6,
   "metadata": {},
   "outputs": [],
   "source": [
    "import time\n",
    "import datetime\n",
    "import math\n",
    "import csv\n",
    "import random\n",
    "import string\n",
    "\n",
    "import train # import art_train\n",
    "import test #import art_test"
   ]
  },
  {
   "cell_type": "code",
   "execution_count": 7,
   "metadata": {},
   "outputs": [],
   "source": [
    "from kmodes.kmodes import KModes"
   ]
  },
  {
   "cell_type": "code",
   "execution_count": 8,
   "metadata": {},
   "outputs": [],
   "source": [
    "def clustering_score(X, y, n, C):\n",
    "    #X is the data, y is target, n is the number of classes, C is the types of X features.\n",
    "    np.random.seed(5)\n",
    "\n",
    "\n",
    "    k_means = KMeans(n_clusters=n)\n",
    "    k_means.fit(X)\n",
    "    labels = k_means.labels_\n",
    "    \n",
    "    k_means_score = [homogeneity_score(y, labels),adjusted_rand_score(y, labels),\n",
    "                         adjusted_mutual_info_score(y, labels),fowlkes_mallows_score(y, labels)]\n",
    "    data = {}\n",
    "    data['C'] = C\n",
    "    data['X'] = X\n",
    "    hidden = dict()\n",
    "    N = len(X)\n",
    "    hidden['Z'] = np.random.randint(0,2,size=(N,2)).astype('float64')\n",
    "    params = dict()\n",
    "    params['alpha'] = 2   # concentration parameter for the IBP\n",
    "    params['Niter'] = 100 # number of algorithm iterations\n",
    "    params['maxK'] = 10\n",
    "    params['verbose'] = 0 #do not show messages\n",
    "    hidden = GLFM.infer(data, hidden,params)\n",
    "    z = hidden['Z']\n",
    "\n",
    "\n",
    "    k_modes = KModes(n_clusters=n, init='Huang', n_init=5, verbose=1)\n",
    "\n",
    "    k_modes.fit(z)\n",
    "    labels = k_modes.labels_\n",
    "\n",
    "    k_modes_score = [homogeneity_score(y, labels),adjusted_rand_score(y, labels),\n",
    "                                 adjusted_mutual_info_score(y, labels),fowlkes_mallows_score(y, labels)]\n",
    "\n",
    "\n",
    "    r = 0.9\n",
    "    Tmatrix = train.art_train(z,rho=r) #,beta=0.000001,alpha=1.0,nep=1)\n",
    "    T = test.art_test(z,Tmatrix,rho=r) #,beta=0.000001,alpha=1.0,nep=1)\n",
    "    labels = T['Template']\n",
    "\n",
    "    Art_score = [homogeneity_score(y, labels),adjusted_rand_score(y, labels),\n",
    "                                 adjusted_mutual_info_score(y, labels),fowlkes_mallows_score(y, labels)]\n",
    "\n",
    "    table = pd.DataFrame(data={'k_means':k_means_score,'k_modes + GLFM' : k_modes_score,\n",
    "                                'Art + GLFM':Art_score}, columns = ['k_means','k_modes + GLFM','Art + GLFM'],\n",
    "                          index = ['homogeneity','adjusted_rand','adjusted_mutual_info','fowlkes_mallows'])\n",
    "    return table\n",
    "\n"
   ]
  },
  {
   "cell_type": "code",
   "execution_count": 9,
   "metadata": {},
   "outputs": [],
   "source": [
    "iris = datasets.load_iris()\n",
    "X = iris.data\n",
    "y = iris.target"
   ]
  },
  {
   "cell_type": "code",
   "execution_count": 10,
   "metadata": {},
   "outputs": [
    {
     "name": "stdout",
     "output_type": "stream",
     "text": [
      "In C++: transforming input data...\n",
      "done\n",
      "\n",
      "\n",
      "Entering C++: Running Inference Routine...\n",
      "\n",
      "\n",
      "Back to Python: OK\n",
      "\n",
      "B_out[D,Kest,maxR] where D=4, Kest=8, maxR=1\n",
      "Init: initializing centroids\n",
      "Init: initializing clusters\n",
      "Starting iterations...\n",
      "Run 1, iteration: 1/100, moves: 0, cost: 101.0\n",
      "Init: initializing centroids\n",
      "Init: initializing clusters\n",
      "Starting iterations...\n",
      "Run 2, iteration: 1/100, moves: 0, cost: 93.0\n",
      "Init: initializing centroids\n",
      "Init: initializing clusters\n",
      "Starting iterations...\n",
      "Run 3, iteration: 1/100, moves: 0, cost: 42.0\n",
      "Init: initializing centroids\n",
      "Init: initializing clusters\n",
      "Starting iterations...\n",
      "Run 4, iteration: 1/100, moves: 17, cost: 73.0\n",
      "Run 4, iteration: 2/100, moves: 0, cost: 73.0\n",
      "Init: initializing centroids\n",
      "Init: initializing clusters\n",
      "Starting iterations...\n",
      "Run 5, iteration: 1/100, moves: 0, cost: 42.0\n",
      "Best run was number 3\n"
     ]
    }
   ],
   "source": [
    "table_iris = clustering_score(X,y,3,'pppp')"
   ]
  },
  {
   "cell_type": "code",
   "execution_count": 11,
   "metadata": {},
   "outputs": [
    {
     "data": {
      "text/html": [
       "<div>\n",
       "<style scoped>\n",
       "    .dataframe tbody tr th:only-of-type {\n",
       "        vertical-align: middle;\n",
       "    }\n",
       "\n",
       "    .dataframe tbody tr th {\n",
       "        vertical-align: top;\n",
       "    }\n",
       "\n",
       "    .dataframe thead th {\n",
       "        text-align: right;\n",
       "    }\n",
       "</style>\n",
       "<table border=\"1\" class=\"dataframe\">\n",
       "  <thead>\n",
       "    <tr style=\"text-align: right;\">\n",
       "      <th></th>\n",
       "      <th>k_means</th>\n",
       "      <th>k_modes + GLFM</th>\n",
       "      <th>Art + GLFM</th>\n",
       "    </tr>\n",
       "  </thead>\n",
       "  <tbody>\n",
       "    <tr>\n",
       "      <th>homogeneity</th>\n",
       "      <td>0.751485</td>\n",
       "      <td>0.438703</td>\n",
       "      <td>0.689271</td>\n",
       "    </tr>\n",
       "    <tr>\n",
       "      <th>adjusted_rand</th>\n",
       "      <td>0.730238</td>\n",
       "      <td>0.396603</td>\n",
       "      <td>0.457327</td>\n",
       "    </tr>\n",
       "    <tr>\n",
       "      <th>adjusted_mutual_info</th>\n",
       "      <td>0.748372</td>\n",
       "      <td>0.431673</td>\n",
       "      <td>0.455505</td>\n",
       "    </tr>\n",
       "    <tr>\n",
       "      <th>fowlkes_mallows</th>\n",
       "      <td>0.820808</td>\n",
       "      <td>0.597999</td>\n",
       "      <td>0.617120</td>\n",
       "    </tr>\n",
       "  </tbody>\n",
       "</table>\n",
       "</div>"
      ],
      "text/plain": [
       "                       k_means  k_modes + GLFM  Art + GLFM\n",
       "homogeneity           0.751485        0.438703    0.689271\n",
       "adjusted_rand         0.730238        0.396603    0.457327\n",
       "adjusted_mutual_info  0.748372        0.431673    0.455505\n",
       "fowlkes_mallows       0.820808        0.597999    0.617120"
      ]
     },
     "execution_count": 11,
     "metadata": {},
     "output_type": "execute_result"
    }
   ],
   "source": [
    "table_iris"
   ]
  },
  {
   "cell_type": "markdown",
   "metadata": {},
   "source": [
    "# Then Wine Data"
   ]
  },
  {
   "cell_type": "code",
   "execution_count": 12,
   "metadata": {},
   "outputs": [],
   "source": [
    "wine = datasets.load_wine()\n",
    "X = wine.data\n",
    "y = wine.target"
   ]
  },
  {
   "cell_type": "code",
   "execution_count": 13,
   "metadata": {},
   "outputs": [
    {
     "name": "stdout",
     "output_type": "stream",
     "text": [
      "In C++: transforming input data...\n",
      "done\n",
      "\n",
      "\n",
      "Entering C++: Running Inference Routine...\n",
      "\n",
      "\n",
      "Back to Python: OK\n",
      "\n",
      "B_out[D,Kest,maxR] where D=13, Kest=8, maxR=1\n",
      "Init: initializing centroids\n",
      "Init: initializing clusters\n",
      "Starting iterations...\n",
      "Run 1, iteration: 1/100, moves: 1, cost: 75.0\n",
      "Run 1, iteration: 2/100, moves: 0, cost: 75.0\n",
      "Init: initializing centroids\n",
      "Init: initializing clusters\n",
      "Starting iterations...\n",
      "Run 2, iteration: 1/100, moves: 1, cost: 75.0\n",
      "Run 2, iteration: 2/100, moves: 0, cost: 75.0\n",
      "Init: initializing centroids\n",
      "Init: initializing clusters\n",
      "Starting iterations...\n",
      "Run 3, iteration: 1/100, moves: 48, cost: 22.0\n",
      "Run 3, iteration: 2/100, moves: 3, cost: 22.0\n",
      "Init: initializing centroids\n",
      "Init: initializing clusters\n",
      "Starting iterations...\n",
      "Run 4, iteration: 1/100, moves: 0, cost: 17.0\n",
      "Init: initializing centroids\n",
      "Init: initializing clusters\n",
      "Starting iterations...\n",
      "Run 5, iteration: 1/100, moves: 50, cost: 22.0\n",
      "Run 5, iteration: 2/100, moves: 1, cost: 22.0\n",
      "Best run was number 4\n"
     ]
    }
   ],
   "source": [
    "table_wine = clustering_score(X,y,3,'ppppppppppppp')"
   ]
  },
  {
   "cell_type": "code",
   "execution_count": 14,
   "metadata": {},
   "outputs": [
    {
     "data": {
      "text/html": [
       "<div>\n",
       "<style scoped>\n",
       "    .dataframe tbody tr th:only-of-type {\n",
       "        vertical-align: middle;\n",
       "    }\n",
       "\n",
       "    .dataframe tbody tr th {\n",
       "        vertical-align: top;\n",
       "    }\n",
       "\n",
       "    .dataframe thead th {\n",
       "        text-align: right;\n",
       "    }\n",
       "</style>\n",
       "<table border=\"1\" class=\"dataframe\">\n",
       "  <thead>\n",
       "    <tr style=\"text-align: right;\">\n",
       "      <th></th>\n",
       "      <th>k_means</th>\n",
       "      <th>k_modes + GLFM</th>\n",
       "      <th>Art + GLFM</th>\n",
       "    </tr>\n",
       "  </thead>\n",
       "  <tbody>\n",
       "    <tr>\n",
       "      <th>homogeneity</th>\n",
       "      <td>0.428812</td>\n",
       "      <td>0.432348</td>\n",
       "      <td>0.485538</td>\n",
       "    </tr>\n",
       "    <tr>\n",
       "      <th>adjusted_rand</th>\n",
       "      <td>0.371114</td>\n",
       "      <td>0.395561</td>\n",
       "      <td>0.379785</td>\n",
       "    </tr>\n",
       "    <tr>\n",
       "      <th>adjusted_mutual_info</th>\n",
       "      <td>0.422631</td>\n",
       "      <td>0.426009</td>\n",
       "      <td>0.450858</td>\n",
       "    </tr>\n",
       "    <tr>\n",
       "      <th>fowlkes_mallows</th>\n",
       "      <td>0.583537</td>\n",
       "      <td>0.661489</td>\n",
       "      <td>0.637345</td>\n",
       "    </tr>\n",
       "  </tbody>\n",
       "</table>\n",
       "</div>"
      ],
      "text/plain": [
       "                       k_means  k_modes + GLFM  Art + GLFM\n",
       "homogeneity           0.428812        0.432348    0.485538\n",
       "adjusted_rand         0.371114        0.395561    0.379785\n",
       "adjusted_mutual_info  0.422631        0.426009    0.450858\n",
       "fowlkes_mallows       0.583537        0.661489    0.637345"
      ]
     },
     "execution_count": 14,
     "metadata": {},
     "output_type": "execute_result"
    }
   ],
   "source": [
    "table_wine"
   ]
  },
  {
   "cell_type": "markdown",
   "metadata": {},
   "source": [
    "# kdd"
   ]
  },
  {
   "cell_type": "code",
   "execution_count": 15,
   "metadata": {},
   "outputs": [],
   "source": [
    "kdd = pd.read_csv('kddcup.data_10_percent_corrected.csv', header = None, names = ['duration','protocol_type','service',\n",
    "'flag','src_bytes','dst_bytes','land','wrong_fragment','urgent','hot','num_failed_logins','logged_in','num_compromised',\n",
    "'root_shell','su_attempted','num_root','num_file_creations','num_shells','num_access_files','num_outbound_cmds',\n",
    "'is_host_login','is_guest_login','count','srv_count','serror_rate','srv_serror_rate','rerror_rate',\n",
    "'srv_rerror_rate','same_srv_rate','diff_srv_rate','srv_diff_host_rate','dst_host_count','dst_host_srv_count',\n",
    "'dst_host_same_srv_rate','dst_host_diff_srv_rate','dst_host_same_src_port_rate','dst_host_srv_diff_host_rate',\n",
    "'dst_host_serror_rate', 'dst_host_srv_serror_rate', 'dst_host_rerror_rate', 'dst_host_srv_rerror_rate','target'])"
   ]
  },
  {
   "cell_type": "code",
   "execution_count": 16,
   "metadata": {},
   "outputs": [],
   "source": [
    "kdd = kdd.sample(frac=1).reset_index(drop=True)"
   ]
  },
  {
   "cell_type": "code",
   "execution_count": 17,
   "metadata": {},
   "outputs": [],
   "source": [
    "kdd_cut = kdd.iloc[:10000,:].copy()"
   ]
  },
  {
   "cell_type": "code",
   "execution_count": 18,
   "metadata": {},
   "outputs": [],
   "source": [
    "kdd_cut['protocol_type'].replace(kdd['protocol_type'].unique(),\n",
    "                                 [i for i in range(1, len(kdd_cut['protocol_type'].unique()) + 1)], inplace = True)"
   ]
  },
  {
   "cell_type": "code",
   "execution_count": 19,
   "metadata": {},
   "outputs": [],
   "source": [
    "kdd_cut['service'].replace(kdd_cut['service'].unique(),\n",
    "                           [i for i in range(1, len(kdd_cut['service'].unique()) + 1)], inplace = True)"
   ]
  },
  {
   "cell_type": "code",
   "execution_count": 20,
   "metadata": {},
   "outputs": [],
   "source": [
    "kdd_cut['flag'].replace(kdd_cut['flag'].unique(),\n",
    "                           [i for i in range(1, len(kdd_cut['flag'].unique()) + 1)], inplace = True)"
   ]
  },
  {
   "cell_type": "code",
   "execution_count": 21,
   "metadata": {},
   "outputs": [],
   "source": [
    "kdd_cut['target'].replace(kdd_cut['target'].unique(),\n",
    "                           [i for i in range(1, len(kdd_cut['target'].unique()) + 1)], inplace = True)"
   ]
  },
  {
   "cell_type": "code",
   "execution_count": 22,
   "metadata": {},
   "outputs": [],
   "source": [
    "X = kdd_cut.iloc[:,:-1]"
   ]
  },
  {
   "cell_type": "code",
   "execution_count": 23,
   "metadata": {},
   "outputs": [],
   "source": [
    "y = kdd_cut.iloc[:,-1]"
   ]
  },
  {
   "cell_type": "code",
   "execution_count": 24,
   "metadata": {},
   "outputs": [],
   "source": [
    "X = X.values"
   ]
  },
  {
   "cell_type": "code",
   "execution_count": 25,
   "metadata": {},
   "outputs": [],
   "source": [
    "y = y.values"
   ]
  },
  {
   "cell_type": "code",
   "execution_count": 26,
   "metadata": {},
   "outputs": [
    {
     "name": "stdout",
     "output_type": "stream",
     "text": [
      "In C++: transforming input data...\n",
      "done\n",
      "\n",
      "\n",
      "Entering C++: Running Inference Routine...\n",
      "\n",
      "\n",
      "Back to Python: OK\n",
      "\n",
      "B_out[D,Kest,maxR] where D=41, Kest=8, maxR=52\n",
      "Init: initializing centroids\n",
      "Init: initializing clusters\n",
      "Starting iterations...\n",
      "Run 1, iteration: 1/100, moves: 269, cost: 506.0\n",
      "Run 1, iteration: 2/100, moves: 1, cost: 506.0\n",
      "Init: initializing centroids\n",
      "Init: initializing clusters\n",
      "Starting iterations...\n",
      "Run 2, iteration: 1/100, moves: 0, cost: 677.0\n",
      "Init: initializing centroids\n",
      "Init: initializing clusters\n",
      "Starting iterations...\n",
      "Run 3, iteration: 1/100, moves: 245, cost: 1446.0\n",
      "Run 3, iteration: 2/100, moves: 0, cost: 1446.0\n",
      "Init: initializing centroids\n",
      "Init: initializing clusters\n",
      "Starting iterations...\n",
      "Run 4, iteration: 1/100, moves: 3, cost: 974.0\n",
      "Run 4, iteration: 2/100, moves: 0, cost: 974.0\n",
      "Init: initializing centroids\n",
      "Init: initializing clusters\n",
      "Starting iterations...\n",
      "Run 5, iteration: 1/100, moves: 0, cost: 1207.0\n",
      "Best run was number 1\n"
     ]
    }
   ],
   "source": [
    "table_kdd = clustering_score(X,y,14,'ncccnnnnnnnnnnnnnnnnnnnnpppppppnnpppppppp')"
   ]
  },
  {
   "cell_type": "code",
   "execution_count": 27,
   "metadata": {},
   "outputs": [
    {
     "data": {
      "text/html": [
       "<div>\n",
       "<style scoped>\n",
       "    .dataframe tbody tr th:only-of-type {\n",
       "        vertical-align: middle;\n",
       "    }\n",
       "\n",
       "    .dataframe tbody tr th {\n",
       "        vertical-align: top;\n",
       "    }\n",
       "\n",
       "    .dataframe thead th {\n",
       "        text-align: right;\n",
       "    }\n",
       "</style>\n",
       "<table border=\"1\" class=\"dataframe\">\n",
       "  <thead>\n",
       "    <tr style=\"text-align: right;\">\n",
       "      <th></th>\n",
       "      <th>k_means</th>\n",
       "      <th>k_modes + GLFM</th>\n",
       "      <th>Art + GLFM</th>\n",
       "    </tr>\n",
       "  </thead>\n",
       "  <tbody>\n",
       "    <tr>\n",
       "      <th>homogeneity</th>\n",
       "      <td>0.645238</td>\n",
       "      <td>0.656114</td>\n",
       "      <td>0.721916</td>\n",
       "    </tr>\n",
       "    <tr>\n",
       "      <th>adjusted_rand</th>\n",
       "      <td>0.792445</td>\n",
       "      <td>0.369759</td>\n",
       "      <td>0.380110</td>\n",
       "    </tr>\n",
       "    <tr>\n",
       "      <th>adjusted_mutual_info</th>\n",
       "      <td>0.644008</td>\n",
       "      <td>0.384299</td>\n",
       "      <td>0.392812</td>\n",
       "    </tr>\n",
       "    <tr>\n",
       "      <th>fowlkes_mallows</th>\n",
       "      <td>0.885765</td>\n",
       "      <td>0.575830</td>\n",
       "      <td>0.583114</td>\n",
       "    </tr>\n",
       "  </tbody>\n",
       "</table>\n",
       "</div>"
      ],
      "text/plain": [
       "                       k_means  k_modes + GLFM  Art + GLFM\n",
       "homogeneity           0.645238        0.656114    0.721916\n",
       "adjusted_rand         0.792445        0.369759    0.380110\n",
       "adjusted_mutual_info  0.644008        0.384299    0.392812\n",
       "fowlkes_mallows       0.885765        0.575830    0.583114"
      ]
     },
     "execution_count": 27,
     "metadata": {},
     "output_type": "execute_result"
    }
   ],
   "source": [
    "table_kdd"
   ]
  },
  {
   "cell_type": "code",
   "execution_count": 28,
   "metadata": {},
   "outputs": [],
   "source": [
    "covtype = pd.read_csv('covtype.data.csv',header = None)"
   ]
  },
  {
   "cell_type": "code",
   "execution_count": 29,
   "metadata": {},
   "outputs": [
    {
     "data": {
      "text/html": [
       "<div>\n",
       "<style scoped>\n",
       "    .dataframe tbody tr th:only-of-type {\n",
       "        vertical-align: middle;\n",
       "    }\n",
       "\n",
       "    .dataframe tbody tr th {\n",
       "        vertical-align: top;\n",
       "    }\n",
       "\n",
       "    .dataframe thead th {\n",
       "        text-align: right;\n",
       "    }\n",
       "</style>\n",
       "<table border=\"1\" class=\"dataframe\">\n",
       "  <thead>\n",
       "    <tr style=\"text-align: right;\">\n",
       "      <th></th>\n",
       "      <th>0</th>\n",
       "      <th>1</th>\n",
       "      <th>2</th>\n",
       "      <th>3</th>\n",
       "      <th>4</th>\n",
       "      <th>5</th>\n",
       "      <th>6</th>\n",
       "      <th>7</th>\n",
       "      <th>8</th>\n",
       "      <th>9</th>\n",
       "      <th>...</th>\n",
       "      <th>45</th>\n",
       "      <th>46</th>\n",
       "      <th>47</th>\n",
       "      <th>48</th>\n",
       "      <th>49</th>\n",
       "      <th>50</th>\n",
       "      <th>51</th>\n",
       "      <th>52</th>\n",
       "      <th>53</th>\n",
       "      <th>54</th>\n",
       "    </tr>\n",
       "  </thead>\n",
       "  <tbody>\n",
       "    <tr>\n",
       "      <th>0</th>\n",
       "      <td>2596</td>\n",
       "      <td>51</td>\n",
       "      <td>3</td>\n",
       "      <td>258</td>\n",
       "      <td>0</td>\n",
       "      <td>510</td>\n",
       "      <td>221</td>\n",
       "      <td>232</td>\n",
       "      <td>148</td>\n",
       "      <td>6279</td>\n",
       "      <td>...</td>\n",
       "      <td>0</td>\n",
       "      <td>0</td>\n",
       "      <td>0</td>\n",
       "      <td>0</td>\n",
       "      <td>0</td>\n",
       "      <td>0</td>\n",
       "      <td>0</td>\n",
       "      <td>0</td>\n",
       "      <td>0</td>\n",
       "      <td>5</td>\n",
       "    </tr>\n",
       "    <tr>\n",
       "      <th>1</th>\n",
       "      <td>2590</td>\n",
       "      <td>56</td>\n",
       "      <td>2</td>\n",
       "      <td>212</td>\n",
       "      <td>-6</td>\n",
       "      <td>390</td>\n",
       "      <td>220</td>\n",
       "      <td>235</td>\n",
       "      <td>151</td>\n",
       "      <td>6225</td>\n",
       "      <td>...</td>\n",
       "      <td>0</td>\n",
       "      <td>0</td>\n",
       "      <td>0</td>\n",
       "      <td>0</td>\n",
       "      <td>0</td>\n",
       "      <td>0</td>\n",
       "      <td>0</td>\n",
       "      <td>0</td>\n",
       "      <td>0</td>\n",
       "      <td>5</td>\n",
       "    </tr>\n",
       "    <tr>\n",
       "      <th>2</th>\n",
       "      <td>2804</td>\n",
       "      <td>139</td>\n",
       "      <td>9</td>\n",
       "      <td>268</td>\n",
       "      <td>65</td>\n",
       "      <td>3180</td>\n",
       "      <td>234</td>\n",
       "      <td>238</td>\n",
       "      <td>135</td>\n",
       "      <td>6121</td>\n",
       "      <td>...</td>\n",
       "      <td>0</td>\n",
       "      <td>0</td>\n",
       "      <td>0</td>\n",
       "      <td>0</td>\n",
       "      <td>0</td>\n",
       "      <td>0</td>\n",
       "      <td>0</td>\n",
       "      <td>0</td>\n",
       "      <td>0</td>\n",
       "      <td>2</td>\n",
       "    </tr>\n",
       "    <tr>\n",
       "      <th>3</th>\n",
       "      <td>2785</td>\n",
       "      <td>155</td>\n",
       "      <td>18</td>\n",
       "      <td>242</td>\n",
       "      <td>118</td>\n",
       "      <td>3090</td>\n",
       "      <td>238</td>\n",
       "      <td>238</td>\n",
       "      <td>122</td>\n",
       "      <td>6211</td>\n",
       "      <td>...</td>\n",
       "      <td>0</td>\n",
       "      <td>0</td>\n",
       "      <td>0</td>\n",
       "      <td>0</td>\n",
       "      <td>0</td>\n",
       "      <td>0</td>\n",
       "      <td>0</td>\n",
       "      <td>0</td>\n",
       "      <td>0</td>\n",
       "      <td>2</td>\n",
       "    </tr>\n",
       "    <tr>\n",
       "      <th>4</th>\n",
       "      <td>2595</td>\n",
       "      <td>45</td>\n",
       "      <td>2</td>\n",
       "      <td>153</td>\n",
       "      <td>-1</td>\n",
       "      <td>391</td>\n",
       "      <td>220</td>\n",
       "      <td>234</td>\n",
       "      <td>150</td>\n",
       "      <td>6172</td>\n",
       "      <td>...</td>\n",
       "      <td>0</td>\n",
       "      <td>0</td>\n",
       "      <td>0</td>\n",
       "      <td>0</td>\n",
       "      <td>0</td>\n",
       "      <td>0</td>\n",
       "      <td>0</td>\n",
       "      <td>0</td>\n",
       "      <td>0</td>\n",
       "      <td>5</td>\n",
       "    </tr>\n",
       "  </tbody>\n",
       "</table>\n",
       "<p>5 rows × 55 columns</p>\n",
       "</div>"
      ],
      "text/plain": [
       "     0    1   2    3    4     5    6    7    8     9  ...  45  46  47  48  49  \\\n",
       "0  2596   51   3  258    0   510  221  232  148  6279 ...   0   0   0   0   0   \n",
       "1  2590   56   2  212   -6   390  220  235  151  6225 ...   0   0   0   0   0   \n",
       "2  2804  139   9  268   65  3180  234  238  135  6121 ...   0   0   0   0   0   \n",
       "3  2785  155  18  242  118  3090  238  238  122  6211 ...   0   0   0   0   0   \n",
       "4  2595   45   2  153   -1   391  220  234  150  6172 ...   0   0   0   0   0   \n",
       "\n",
       "   50  51  52  53  54  \n",
       "0   0   0   0   0   5  \n",
       "1   0   0   0   0   5  \n",
       "2   0   0   0   0   2  \n",
       "3   0   0   0   0   2  \n",
       "4   0   0   0   0   5  \n",
       "\n",
       "[5 rows x 55 columns]"
      ]
     },
     "execution_count": 29,
     "metadata": {},
     "output_type": "execute_result"
    }
   ],
   "source": [
    "covtype.head()"
   ]
  },
  {
   "cell_type": "code",
   "execution_count": 30,
   "metadata": {},
   "outputs": [],
   "source": [
    "covtype = covtype.sample(frac=1).reset_index(drop=True)"
   ]
  },
  {
   "cell_type": "code",
   "execution_count": 31,
   "metadata": {},
   "outputs": [],
   "source": [
    "covtype_cut = covtype.iloc[:10000,:].copy()"
   ]
  },
  {
   "cell_type": "code",
   "execution_count": 32,
   "metadata": {},
   "outputs": [
    {
     "data": {
      "text/plain": [
       "array([2, 1, 3, 6, 7, 5, 4])"
      ]
     },
     "execution_count": 32,
     "metadata": {},
     "output_type": "execute_result"
    }
   ],
   "source": [
    "covtype_cut.iloc[:,-1].unique()"
   ]
  },
  {
   "cell_type": "code",
   "execution_count": 33,
   "metadata": {},
   "outputs": [
    {
     "data": {
      "text/plain": [
       "0     3237\n",
       "1       36\n",
       "2       11\n",
       "3       30\n",
       "4        1\n",
       "5     2068\n",
       "6      219\n",
       "7      215\n",
       "8      130\n",
       "9      201\n",
       "10       0\n",
       "11       0\n",
       "12       1\n",
       "13       0\n",
       "14       0\n",
       "15       0\n",
       "16       0\n",
       "17       0\n",
       "18       0\n",
       "19       0\n",
       "20       0\n",
       "21       0\n",
       "22       0\n",
       "23       0\n",
       "24       0\n",
       "25       0\n",
       "26       0\n",
       "27       0\n",
       "28       0\n",
       "29       0\n",
       "30       0\n",
       "31       0\n",
       "32       0\n",
       "33       0\n",
       "34       0\n",
       "35       0\n",
       "36       0\n",
       "37       0\n",
       "38       0\n",
       "39       0\n",
       "40       0\n",
       "41       0\n",
       "42       0\n",
       "43       0\n",
       "44       0\n",
       "45       0\n",
       "46       0\n",
       "47       0\n",
       "48       1\n",
       "49       0\n",
       "50       0\n",
       "51       0\n",
       "52       0\n",
       "53       0\n",
       "54       7\n",
       "Name: 545, dtype: int64"
      ]
     },
     "execution_count": 33,
     "metadata": {},
     "output_type": "execute_result"
    }
   ],
   "source": [
    "covtype_cut.iloc[545,:]"
   ]
  },
  {
   "cell_type": "code",
   "execution_count": 34,
   "metadata": {},
   "outputs": [],
   "source": [
    "X = covtype_cut.iloc[:,:-1].values.astype('float64')"
   ]
  },
  {
   "cell_type": "code",
   "execution_count": 35,
   "metadata": {},
   "outputs": [],
   "source": [
    "y = covtype_cut.iloc[:,-1].values"
   ]
  },
  {
   "cell_type": "code",
   "execution_count": 38,
   "metadata": {},
   "outputs": [],
   "source": [
    "C = []\n",
    "for i  in range(0,6):\n",
    "    C.append('p')\n",
    "C.append('nnnp')\n",
    "\n",
    "for i in range(10,54):\n",
    "    C.append('o')"
   ]
  },
  {
   "cell_type": "code",
   "execution_count": 39,
   "metadata": {},
   "outputs": [
    {
     "data": {
      "text/plain": [
       "'ppppppnnnpoooooooooooooooooooooooooooooooooooooooooooo'"
      ]
     },
     "execution_count": 39,
     "metadata": {},
     "output_type": "execute_result"
    }
   ],
   "source": [
    "''.join(C)"
   ]
  },
  {
   "cell_type": "code",
   "execution_count": 40,
   "metadata": {},
   "outputs": [],
   "source": [
    "C = ''.join(C)"
   ]
  },
  {
   "cell_type": "code",
   "execution_count": 41,
   "metadata": {},
   "outputs": [
    {
     "data": {
      "text/plain": [
       "'ppppppnnnpoooooooooooooooooooooooooooooooooooooooooooo'"
      ]
     },
     "execution_count": 41,
     "metadata": {},
     "output_type": "execute_result"
    }
   ],
   "source": [
    "C"
   ]
  },
  {
   "cell_type": "code",
   "execution_count": 42,
   "metadata": {},
   "outputs": [
    {
     "name": "stdout",
     "output_type": "stream",
     "text": [
      "In C++: transforming input data...\n",
      "done\n",
      "\n",
      "\n",
      "Entering C++: Running Inference Routine...\n",
      "\n",
      "\n",
      "Back to Python: OK\n",
      "\n",
      "B_out[D,Kest,maxR] where D=54, Kest=8, maxR=2\n",
      "Init: initializing centroids\n",
      "Init: initializing clusters\n",
      "Starting iterations...\n",
      "Run 1, iteration: 1/100, moves: 14, cost: 3892.0\n",
      "Run 1, iteration: 2/100, moves: 0, cost: 3892.0\n",
      "Init: initializing centroids\n",
      "Init: initializing clusters\n",
      "Starting iterations...\n",
      "Run 2, iteration: 1/100, moves: 2100, cost: 879.0\n",
      "Run 2, iteration: 2/100, moves: 0, cost: 879.0\n",
      "Init: initializing centroids\n",
      "Init: initializing clusters\n",
      "Starting iterations...\n",
      "Run 3, iteration: 1/100, moves: 39, cost: 1741.0\n",
      "Run 3, iteration: 2/100, moves: 0, cost: 1741.0\n",
      "Init: initializing centroids\n",
      "Init: initializing clusters\n",
      "Starting iterations...\n",
      "Run 4, iteration: 1/100, moves: 171, cost: 1808.0\n",
      "Run 4, iteration: 2/100, moves: 0, cost: 1808.0\n",
      "Init: initializing centroids\n",
      "Init: initializing clusters\n",
      "Starting iterations...\n",
      "Run 5, iteration: 1/100, moves: 251, cost: 875.0\n",
      "Run 5, iteration: 2/100, moves: 0, cost: 875.0\n",
      "Best run was number 5\n"
     ]
    }
   ],
   "source": [
    "table_covtype = clustering_score(X,y,7,C)"
   ]
  },
  {
   "cell_type": "code",
   "execution_count": 43,
   "metadata": {},
   "outputs": [
    {
     "data": {
      "text/html": [
       "<div>\n",
       "<style scoped>\n",
       "    .dataframe tbody tr th:only-of-type {\n",
       "        vertical-align: middle;\n",
       "    }\n",
       "\n",
       "    .dataframe tbody tr th {\n",
       "        vertical-align: top;\n",
       "    }\n",
       "\n",
       "    .dataframe thead th {\n",
       "        text-align: right;\n",
       "    }\n",
       "</style>\n",
       "<table border=\"1\" class=\"dataframe\">\n",
       "  <thead>\n",
       "    <tr style=\"text-align: right;\">\n",
       "      <th></th>\n",
       "      <th>k_means</th>\n",
       "      <th>k_modes + GLFM</th>\n",
       "      <th>Art + GLFM</th>\n",
       "    </tr>\n",
       "  </thead>\n",
       "  <tbody>\n",
       "    <tr>\n",
       "      <th>homogeneity</th>\n",
       "      <td>0.091532</td>\n",
       "      <td>0.031678</td>\n",
       "      <td>0.155231</td>\n",
       "    </tr>\n",
       "    <tr>\n",
       "      <th>adjusted_rand</th>\n",
       "      <td>-0.005636</td>\n",
       "      <td>0.016709</td>\n",
       "      <td>0.060596</td>\n",
       "    </tr>\n",
       "    <tr>\n",
       "      <th>adjusted_mutual_info</th>\n",
       "      <td>0.060384</td>\n",
       "      <td>0.024425</td>\n",
       "      <td>0.099817</td>\n",
       "    </tr>\n",
       "    <tr>\n",
       "      <th>fowlkes_mallows</th>\n",
       "      <td>0.257579</td>\n",
       "      <td>0.323648</td>\n",
       "      <td>0.331799</td>\n",
       "    </tr>\n",
       "  </tbody>\n",
       "</table>\n",
       "</div>"
      ],
      "text/plain": [
       "                       k_means  k_modes + GLFM  Art + GLFM\n",
       "homogeneity           0.091532        0.031678    0.155231\n",
       "adjusted_rand        -0.005636        0.016709    0.060596\n",
       "adjusted_mutual_info  0.060384        0.024425    0.099817\n",
       "fowlkes_mallows       0.257579        0.323648    0.331799"
      ]
     },
     "execution_count": 43,
     "metadata": {},
     "output_type": "execute_result"
    }
   ],
   "source": [
    "table_covtype"
   ]
  },
  {
   "cell_type": "code",
   "execution_count": null,
   "metadata": {},
   "outputs": [],
   "source": []
  },
  {
   "cell_type": "code",
   "execution_count": null,
   "metadata": {},
   "outputs": [],
   "source": []
  }
 ],
 "metadata": {
  "kernelspec": {
   "display_name": "Python 2",
   "language": "python",
   "name": "python2"
  },
  "language_info": {
   "codemirror_mode": {
    "name": "ipython",
    "version": 2
   },
   "file_extension": ".py",
   "mimetype": "text/x-python",
   "name": "python",
   "nbconvert_exporter": "python",
   "pygments_lexer": "ipython2",
   "version": "2.7.15"
  }
 },
 "nbformat": 4,
 "nbformat_minor": 2
}
